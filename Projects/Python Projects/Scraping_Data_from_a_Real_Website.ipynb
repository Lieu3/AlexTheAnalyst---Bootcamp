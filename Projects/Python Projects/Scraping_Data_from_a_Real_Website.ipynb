{
  "nbformat": 4,
  "nbformat_minor": 0,
  "metadata": {
    "colab": {
      "provenance": []
    },
    "kernelspec": {
      "name": "python3",
      "display_name": "Python 3"
    },
    "language_info": {
      "name": "python"
    }
  },
  "cells": [
    {
      "cell_type": "code",
      "execution_count": 2,
      "metadata": {
        "id": "Nfdvmu3VS2Ui"
      },
      "outputs": [],
      "source": [
        "from bs4 import BeautifulSoup\n",
        "import requests"
      ]
    },
    {
      "cell_type": "code",
      "source": [
        "url = 'https://en.wikipedia.org/wiki/List_of_largest_companies_by_revenue'\n",
        "\n",
        "page = requests.get(url)\n",
        "\n",
        "soup = BeautifulSoup(page.text, 'html')"
      ],
      "metadata": {
        "id": "vV6E-vVaS9GX"
      },
      "execution_count": 3,
      "outputs": []
    },
    {
      "cell_type": "code",
      "source": [
        "print(soup)"
      ],
      "metadata": {
        "id": "j2o78y5lS9JW"
      },
      "execution_count": null,
      "outputs": []
    },
    {
      "cell_type": "code",
      "source": [
        "soup.find_all('table')[1]"
      ],
      "metadata": {
        "colab": {
          "base_uri": "https://localhost:8080/"
        },
        "id": "uWJZPbupS9Nj",
        "outputId": "2f5d0ab3-d428-4540-a711-dd4bd44934b8"
      },
      "execution_count": 7,
      "outputs": [
        {
          "output_type": "execute_result",
          "data": {
            "text/plain": [
              "<table class=\"nowraplinks hlist mw-collapsible autocollapse navbox-inner\" style=\"border-spacing:0;background:transparent;color:inherit\"><tbody><tr><th class=\"navbox-title\" colspan=\"2\" scope=\"col\"><link href=\"mw-data:TemplateStyles:r1129693374\" rel=\"mw-deduplicated-inline-style\"/><style data-mw-deduplicate=\"TemplateStyles:r1063604349\">.mw-parser-output .navbar{display:inline;font-size:88%;font-weight:normal}.mw-parser-output .navbar-collapse{float:left;text-align:left}.mw-parser-output .navbar-boxtext{word-spacing:0}.mw-parser-output .navbar ul{display:inline-block;white-space:nowrap;line-height:inherit}.mw-parser-output .navbar-brackets::before{margin-right:-0.125em;content:\"[ \"}.mw-parser-output .navbar-brackets::after{margin-left:-0.125em;content:\" ]\"}.mw-parser-output .navbar li{word-spacing:-0.125em}.mw-parser-output .navbar a>span,.mw-parser-output .navbar a>abbr{text-decoration:inherit}.mw-parser-output .navbar-mini abbr{font-variant:small-caps;border-bottom:none;text-decoration:none;cursor:inherit}.mw-parser-output .navbar-ct-full{font-size:114%;margin:0 7em}.mw-parser-output .navbar-ct-mini{font-size:114%;margin:0 4em}</style><div class=\"navbar plainlinks hlist navbar-mini\"><ul><li class=\"nv-view\"><a href=\"/wiki/Template:Wealth\" title=\"Template:Wealth\"><abbr style=\";;background:none transparent;border:none;box-shadow:none;padding:0;\" title=\"View this template\">v</abbr></a></li><li class=\"nv-talk\"><a href=\"/wiki/Template_talk:Wealth\" title=\"Template talk:Wealth\"><abbr style=\";;background:none transparent;border:none;box-shadow:none;padding:0;\" title=\"Discuss this template\">t</abbr></a></li><li class=\"nv-edit\"><a class=\"external text\" href=\"https://en.wikipedia.org/w/index.php?title=Template:Wealth&amp;action=edit\"><abbr style=\";;background:none transparent;border:none;box-shadow:none;padding:0;\" title=\"Edit this template\">e</abbr></a></li></ul></div><div id=\"Extreme_wealth\" style=\"font-size:114%;margin:0 4em\">Extreme <a href=\"/wiki/Wealth\" title=\"Wealth\">wealth</a></div></th></tr><tr><th class=\"navbox-group\" scope=\"row\" style=\"width:1%\">Concepts</th><td class=\"navbox-list-with-group navbox-list navbox-odd\" style=\"width:100%;padding:0\"><div style=\"padding:0 0.25em\"></div><table class=\"nowraplinks navbox-subgroup\" style=\"border-spacing:0\"><tbody><tr><td class=\"navbox-list navbox-odd\" colspan=\"2\" style=\"width:100%;padding:0\"><div style=\"padding:0 0.25em\">\n",
              "<ul><li><a href=\"/wiki/Capital_accumulation\" title=\"Capital accumulation\">Capital accumulation</a>\n",
              "<ul><li><a href=\"/wiki/Overaccumulation\" title=\"Overaccumulation\">Overaccumulation</a></li></ul></li>\n",
              "<li><a href=\"/wiki/Economic_inequality\" title=\"Economic inequality\">Economic inequality</a>\n",
              "<ul><li><a class=\"mw-redirect\" href=\"/wiki/Wealth_distribution\" title=\"Wealth distribution\">Wealth distribution</a></li>\n",
              "<li><a href=\"/wiki/Income_distribution\" title=\"Income distribution\">Income distribution</a></li>\n",
              "<li><a href=\"/wiki/Consumption_distribution\" title=\"Consumption distribution\">Consumption distribution</a></li></ul></li>\n",
              "<li><a href=\"/wiki/Elite\" title=\"Elite\">Elite</a></li>\n",
              "<li><a href=\"/wiki/Oligarchy\" title=\"Oligarchy\">Oligarchy</a></li>\n",
              "<li><a href=\"/wiki/Overclass\" title=\"Overclass\">Overclass</a></li>\n",
              "<li><a href=\"/wiki/Plutocracy\" title=\"Plutocracy\">Plutocracy</a></li>\n",
              "<li><a href=\"/wiki/Plutonomy\" title=\"Plutonomy\">Plutonomy</a></li>\n",
              "<li><a href=\"/wiki/Upper_class\" title=\"Upper class\">Upper class</a>\n",
              "<ul><li><a href=\"/wiki/Nouveau_riche\" title=\"Nouveau riche\"><i>Nouveau riche</i> <wbr/>(new money)</a></li>\n",
              "<li><a href=\"/wiki/Old_money\" title=\"Old money\"><i>Vieux riche</i> <wbr/>(old money)</a></li></ul></li>\n",
              "<li><a class=\"mw-redirect\" href=\"/wiki/Luxury_good\" title=\"Luxury good\">Luxury goods</a>\n",
              "<ul><li><a href=\"/wiki/Veblen_good\" title=\"Veblen good\">Veblen goods</a>\n",
              "<ul><li><a href=\"/wiki/Conspicuous_consumption\" title=\"Conspicuous consumption\">Conspicuous consumption</a></li>\n",
              "<li><a href=\"/wiki/Conspicuous_leisure\" title=\"Conspicuous leisure\">Conspicuous leisure</a></li></ul></li></ul></li></ul>\n",
              "</div></td></tr><tr><th class=\"navbox-group\" scope=\"row\" style=\"width:1%\">People</th><td class=\"navbox-list-with-group navbox-list navbox-even\" style=\"width:100%;padding:0\"><div style=\"padding:0 0.25em\">\n",
              "<ul><li><a href=\"/wiki/Billionaire\" title=\"Billionaire\">Billionaire</a></li>\n",
              "<li><a href=\"/wiki/Captain_of_industry\" title=\"Captain of industry\">Captain of industry</a></li>\n",
              "<li><a href=\"/wiki/High-net-worth_individual\" title=\"High-net-worth individual\">High-net-worth individual</a>\n",
              "<ul><li><a class=\"mw-redirect\" href=\"/wiki/Ultra_high-net-worth_individual\" title=\"Ultra high-net-worth individual\">UHNWI</a></li></ul></li>\n",
              "<li><a href=\"/wiki/Magnate\" title=\"Magnate\">Magnate</a>\n",
              "<ul><li><a href=\"/wiki/Business_magnate\" title=\"Business magnate\">Business</a></li></ul></li>\n",
              "<li><a href=\"/wiki/Millionaire\" title=\"Millionaire\">Millionaire</a></li>\n",
              "<li><a href=\"/wiki/Oligarchy\" title=\"Oligarchy\">Oligarch</a>\n",
              "<ul><li><a href=\"/wiki/Business_oligarch\" title=\"Business oligarch\">Business</a></li>\n",
              "<li><a href=\"/wiki/Russian_oligarchs\" title=\"Russian oligarchs\">Russian</a></li>\n",
              "<li><a href=\"/wiki/Ukrainian_oligarchs\" title=\"Ukrainian oligarchs\">Ukrainian</a></li></ul></li>\n",
              "<li><a href=\"/wiki/Robber_baron_(industrialist)\" title=\"Robber baron (industrialist)\">Robber baron</a></li></ul>\n",
              "</div></td></tr><tr><th class=\"navbox-group\" scope=\"row\" style=\"width:1%\"><a href=\"/wiki/Wealth\" title=\"Wealth\">Wealth</a></th><td class=\"navbox-list-with-group navbox-list navbox-odd\" style=\"width:100%;padding:0\"><div style=\"padding:0 0.25em\">\n",
              "<ul><li><a class=\"mw-redirect\" href=\"/wiki/Wealth_concentration\" title=\"Wealth concentration\">Concentration</a></li>\n",
              "<li><a href=\"/wiki/Distribution_of_wealth\" title=\"Distribution of wealth\">Distribution</a></li>\n",
              "<li><a class=\"mw-redirect\" href=\"/wiki/Dynastic_wealth\" title=\"Dynastic wealth\">Dynastic</a></li>\n",
              "<li><a href=\"/wiki/Wealth_effect\" title=\"Wealth effect\">Effect</a></li>\n",
              "<li><a href=\"/wiki/Geography_and_wealth\" title=\"Geography and wealth\">Geography</a></li>\n",
              "<li><a href=\"/wiki/Inheritance\" title=\"Inheritance\">Inherited</a></li>\n",
              "<li><a href=\"/wiki/Wealth_management\" title=\"Wealth management\">Management</a></li>\n",
              "<li><a class=\"mw-redirect\" href=\"/wiki/National_wealth\" title=\"National wealth\">National</a></li>\n",
              "<li><a href=\"/wiki/Paper_wealth\" title=\"Paper wealth\">Paper</a></li>\n",
              "<li><a href=\"/wiki/Wealth_and_religion\" title=\"Wealth and religion\">Religion</a></li>\n",
              "<li><a href=\"/wiki/Wealth_tax\" title=\"Wealth tax\">Tax</a></li></ul>\n",
              "</div></td></tr></tbody></table><div></div></td></tr><tr><th class=\"navbox-group\" scope=\"row\" style=\"width:1%\">Lists</th><td class=\"navbox-list-with-group navbox-list navbox-odd\" style=\"width:100%;padding:0\"><div style=\"padding:0 0.25em\"></div><table class=\"nowraplinks navbox-subgroup\" style=\"border-spacing:0\"><tbody><tr><th class=\"navbox-group\" scope=\"row\" style=\"width:1%\"><a href=\"/wiki/Lists_of_people_by_net_worth\" title=\"Lists of people by net worth\">People</a></th><td class=\"navbox-list-with-group navbox-list navbox-even\" style=\"width:100%;padding:0\"><div style=\"padding:0 0.25em\">\n",
              "<ul><li><a href=\"/wiki/The_World%27s_Billionaires\" title=\"The World's Billionaires\"><i>Forbes</i> list of billionaires</a></li>\n",
              "<li><a href=\"/wiki/List_of_centibillionaires\" title=\"List of centibillionaires\">List of centibillionaires</a></li>\n",
              "<li><a href=\"/wiki/List_of_female_billionaires\" title=\"List of female billionaires\">Female billionaires</a></li>\n",
              "<li><a href=\"/wiki/List_of_royalty_by_net_worth\" title=\"List of royalty by net worth\">Richest royals</a></li>\n",
              "<li><a href=\"/wiki/List_of_richest_Americans_in_history\" title=\"List of richest Americans in history\">Wealthiest Americans</a></li>\n",
              "<li><a href=\"/wiki/List_of_wealthiest_families\" title=\"List of wealthiest families\">Wealthiest families</a></li>\n",
              "<li><a href=\"/wiki/List_of_wealthiest_historical_figures\" title=\"List of wealthiest historical figures\">Wealthiest historical figures</a></li></ul>\n",
              "</div></td></tr><tr><th class=\"navbox-group\" scope=\"row\" style=\"width:1%\"><a class=\"mw-redirect\" href=\"/wiki/List_of_wealthiest_organizations\" title=\"List of wealthiest organizations\">Organizations</a></th><td class=\"navbox-list-with-group navbox-list navbox-odd\" style=\"width:100%;padding:0\"><div style=\"padding:0 0.25em\">\n",
              "<ul><li><a class=\"mw-selflink selflink\">Largest companies by revenue</a></li>\n",
              "<li><a href=\"/wiki/List_of_largest_corporate_profits_and_losses\" title=\"List of largest corporate profits and losses\">Largest corporate profits and losses</a></li>\n",
              "<li><a href=\"/wiki/List_of_public_corporations_by_market_capitalization\" title=\"List of public corporations by market capitalization\">Largest corporations by market capitalization</a></li>\n",
              "<li><a href=\"/wiki/List_of_largest_financial_services_companies_by_revenue\" title=\"List of largest financial services companies by revenue\">Largest financial services companies by revenue</a></li>\n",
              "<li><a href=\"/wiki/List_of_largest_manufacturing_companies_by_revenue\" title=\"List of largest manufacturing companies by revenue\">Largest manufacturing companies by revenue</a></li>\n",
              "<li><a href=\"/wiki/List_of_the_largest_software_companies\" title=\"List of the largest software companies\">Largest software companies by revenue</a></li>\n",
              "<li><a href=\"/wiki/List_of_largest_technology_companies_by_revenue\" title=\"List of largest technology companies by revenue\">Largest technology companies by revenue</a></li>\n",
              "<li><a href=\"/wiki/List_of_wealthiest_charitable_foundations\" title=\"List of wealthiest charitable foundations\">Charities</a>\n",
              "<ul><li><a href=\"/wiki/List_of_philanthropists\" title=\"List of philanthropists\">Philanthropists</a></li></ul></li>\n",
              "<li>Universities\n",
              "<ul><li><a href=\"/wiki/Lists_of_institutions_of_higher_education_by_endowment_size\" title=\"Lists of institutions of higher education by endowment size\">Endowment size</a></li>\n",
              "<li><a href=\"/wiki/List_of_universities_by_number_of_billionaire_alumni\" title=\"List of universities by number of billionaire alumni\">Number of billionaire alumni</a></li></ul></li></ul>\n",
              "</div></td></tr><tr><th class=\"navbox-group\" scope=\"row\" style=\"width:1%\">Other</th><td class=\"navbox-list-with-group navbox-list navbox-even\" style=\"width:100%;padding:0\"><div style=\"padding:0 0.25em\">\n",
              "<ul><li><a href=\"/wiki/List_of_cities_by_number_of_billionaires\" title=\"List of cities by number of billionaires\">Cities by number of billionaires</a></li>\n",
              "<li><a class=\"mw-redirect\" href=\"/wiki/List_of_countries_by_the_number_of_billionaires\" title=\"List of countries by the number of billionaires\">Countries by number of billionaires</a></li>\n",
              "<li><a href=\"/wiki/List_of_countries_by_total_wealth\" title=\"List of countries by total wealth\">Countries by total wealth</a></li>\n",
              "<li><a href=\"/wiki/Lists_of_most_expensive_items_by_category\" title=\"Lists of most expensive items by category\">Most expensive items</a>\n",
              "<ul><li><a href=\"/wiki/Category:Lists_of_most_expensive_things\" title=\"Category:Lists of most expensive things\">by category</a></li></ul></li>\n",
              "<li><a href=\"/wiki/List_of_wealthiest_animals\" title=\"List of wealthiest animals\">Wealthiest animals</a></li></ul>\n",
              "</div></td></tr></tbody></table><div></div></td></tr><tr><th class=\"navbox-group\" scope=\"row\" style=\"width:1%\">Related</th><td class=\"navbox-list-with-group navbox-list navbox-odd\" style=\"width:100%;padding:0\"><div style=\"padding:0 0.25em\"></div><table class=\"nowraplinks navbox-subgroup\" style=\"border-spacing:0\"><tbody><tr><td class=\"navbox-list navbox-odd\" colspan=\"2\" style=\"width:100%;padding:0\"><div style=\"padding:0 0.25em\">\n",
              "<ul><li><a href=\"/wiki/Diseases_of_affluence\" title=\"Diseases of affluence\">Diseases of affluence</a>\n",
              "<ul><li><a href=\"/wiki/Affluenza\" title=\"Affluenza\">Affluenza</a></li>\n",
              "<li><a href=\"/wiki/Narcissism#Celebrity_narcissism\" title=\"Narcissism\">Acquired situational narcissism</a></li></ul></li>\n",
              "<li><i><a href=\"/wiki/Argumentum_ad_crumenam\" title=\"Argumentum ad crumenam\">Argumentum ad crumenam</a></i></li>\n",
              "<li><a href=\"/wiki/Prosperity_theology\" title=\"Prosperity theology\">Prosperity theology</a></li></ul>\n",
              "</div></td></tr><tr><th class=\"navbox-group\" scope=\"row\" style=\"width:1%\"><a href=\"/wiki/Philanthropy\" title=\"Philanthropy\">Philanthropy</a></th><td class=\"navbox-list-with-group navbox-list navbox-even\" style=\"width:100%;padding:0\"><div style=\"padding:0 0.25em\">\n",
              "<ul><li><a href=\"/wiki/The_Gospel_of_Wealth\" title=\"The Gospel of Wealth\">Gospel of Wealth</a></li>\n",
              "<li><a href=\"/wiki/The_Giving_Pledge\" title=\"The Giving Pledge\">The Giving Pledge</a></li>\n",
              "<li><a href=\"/wiki/Philanthrocapitalism\" title=\"Philanthrocapitalism\">Philanthrocapitalism</a></li>\n",
              "<li><a href=\"/wiki/Venture_philanthropy\" title=\"Venture philanthropy\">Venture philanthropy</a></li></ul>\n",
              "</div></td></tr><tr><th class=\"navbox-group\" scope=\"row\" style=\"width:1%\">Sayings</th><td class=\"navbox-list-with-group navbox-list navbox-odd\" style=\"width:100%;padding:0\"><div style=\"padding:0 0.25em\">\n",
              "<ul><li><a href=\"/wiki/The_rich_get_richer_and_the_poor_get_poorer\" title=\"The rich get richer and the poor get poorer\">The rich get richer and the poor get poorer</a></li>\n",
              "<li><a href=\"/wiki/Socialism_for_the_rich_and_capitalism_for_the_poor\" title=\"Socialism for the rich and capitalism for the poor\">Socialism for the rich and capitalism for the poor</a></li>\n",
              "<li><a href=\"/wiki/Too_big_to_fail\" title=\"Too big to fail\">Too big to fail</a></li></ul>\n",
              "</div></td></tr><tr><th class=\"navbox-group\" scope=\"row\" style=\"width:1%\">Media</th><td class=\"navbox-list-with-group navbox-list navbox-even\" style=\"width:100%;padding:0\"><div style=\"padding:0 0.25em\">\n",
              "<ul><li><i><a href=\"/wiki/Das_Kapital\" title=\"Das Kapital\">Das Kapital</a></i></li>\n",
              "<li><a href=\"/wiki/Plutus_(play)\" title=\"Plutus (play)\"><i>Plutus</i></a>\n",
              "<ul><li><a href=\"/wiki/Plutus\" title=\"Plutus\">Greek god of wealth</a></li></ul></li>\n",
              "<li><a href=\"/wiki/Superclass_(book)\" title=\"Superclass (book)\"><i>Superclass</i></a>\n",
              "<ul><li><a href=\"/wiki/The_Superclass_List\" title=\"The Superclass List\">List</a></li></ul></li>\n",
              "<li><i><a href=\"/wiki/The_Theory_of_the_Leisure_Class\" title=\"The Theory of the Leisure Class\">The Theory of the Leisure Class</a></i></li>\n",
              "<li><a href=\"/wiki/Wealth_(film)\" title=\"Wealth (film)\"><i>Wealth</i></a></li>\n",
              "<li><i><a href=\"/wiki/The_Wealth_of_Nations\" title=\"The Wealth of Nations\">The Wealth of Nations</a></i></li></ul>\n",
              "</div></td></tr></tbody></table><div></div></td></tr><tr><td class=\"navbox-abovebelow\" colspan=\"2\"><div>\n",
              "<ul><li><a href=\"/wiki/Category:Wealth\" title=\"Category:Wealth\">Category</a>\n",
              "<ul><li><a href=\"/wiki/Category:Wealth_by_country\" title=\"Category:Wealth by country\">by country</a></li>\n",
              "<li><a class=\"extiw\" href=\"https://commons.wikimedia.org/wiki/Category:Wealth\" title=\"c:Category:Wealth\">Commons</a></li></ul></li>\n",
              "<li><a href=\"/wiki/Special:Search/intitle:%22wealth%22\" title='Special:Search/intitle:\"wealth\"'>Search</a>\n",
              "<ul><li><a class=\"extiw\" href=\"https://commons.wikimedia.org/wiki/Special:Search/intitle:%22wealth%22\" title='c:Special:Search/intitle:\"wealth\"'>Commons</a></li></ul></li></ul>\n",
              "</div></td></tr></tbody></table>"
            ]
          },
          "metadata": {},
          "execution_count": 7
        }
      ]
    },
    {
      "cell_type": "code",
      "source": [
        "soup.find('table', class_ = 'Wikitable sortable')"
      ],
      "metadata": {
        "id": "26Cms6c7S9Qa"
      },
      "execution_count": 8,
      "outputs": []
    },
    {
      "cell_type": "code",
      "source": [
        "table = soup.find_all('table')[1]"
      ],
      "metadata": {
        "id": "3wfSG3NMS9TB"
      },
      "execution_count": 9,
      "outputs": []
    },
    {
      "cell_type": "code",
      "source": [
        "print(table)"
      ],
      "metadata": {
        "colab": {
          "base_uri": "https://localhost:8080/"
        },
        "id": "4EI0M-klS9VX",
        "outputId": "454951c9-5a1c-486f-ccf4-1bada5ec4927"
      },
      "execution_count": 10,
      "outputs": [
        {
          "output_type": "stream",
          "name": "stdout",
          "text": [
            "<table class=\"nowraplinks hlist mw-collapsible autocollapse navbox-inner\" style=\"border-spacing:0;background:transparent;color:inherit\"><tbody><tr><th class=\"navbox-title\" colspan=\"2\" scope=\"col\"><link href=\"mw-data:TemplateStyles:r1129693374\" rel=\"mw-deduplicated-inline-style\"/><style data-mw-deduplicate=\"TemplateStyles:r1063604349\">.mw-parser-output .navbar{display:inline;font-size:88%;font-weight:normal}.mw-parser-output .navbar-collapse{float:left;text-align:left}.mw-parser-output .navbar-boxtext{word-spacing:0}.mw-parser-output .navbar ul{display:inline-block;white-space:nowrap;line-height:inherit}.mw-parser-output .navbar-brackets::before{margin-right:-0.125em;content:\"[ \"}.mw-parser-output .navbar-brackets::after{margin-left:-0.125em;content:\" ]\"}.mw-parser-output .navbar li{word-spacing:-0.125em}.mw-parser-output .navbar a>span,.mw-parser-output .navbar a>abbr{text-decoration:inherit}.mw-parser-output .navbar-mini abbr{font-variant:small-caps;border-bottom:none;text-decoration:none;cursor:inherit}.mw-parser-output .navbar-ct-full{font-size:114%;margin:0 7em}.mw-parser-output .navbar-ct-mini{font-size:114%;margin:0 4em}</style><div class=\"navbar plainlinks hlist navbar-mini\"><ul><li class=\"nv-view\"><a href=\"/wiki/Template:Wealth\" title=\"Template:Wealth\"><abbr style=\";;background:none transparent;border:none;box-shadow:none;padding:0;\" title=\"View this template\">v</abbr></a></li><li class=\"nv-talk\"><a href=\"/wiki/Template_talk:Wealth\" title=\"Template talk:Wealth\"><abbr style=\";;background:none transparent;border:none;box-shadow:none;padding:0;\" title=\"Discuss this template\">t</abbr></a></li><li class=\"nv-edit\"><a class=\"external text\" href=\"https://en.wikipedia.org/w/index.php?title=Template:Wealth&amp;action=edit\"><abbr style=\";;background:none transparent;border:none;box-shadow:none;padding:0;\" title=\"Edit this template\">e</abbr></a></li></ul></div><div id=\"Extreme_wealth\" style=\"font-size:114%;margin:0 4em\">Extreme <a href=\"/wiki/Wealth\" title=\"Wealth\">wealth</a></div></th></tr><tr><th class=\"navbox-group\" scope=\"row\" style=\"width:1%\">Concepts</th><td class=\"navbox-list-with-group navbox-list navbox-odd\" style=\"width:100%;padding:0\"><div style=\"padding:0 0.25em\"></div><table class=\"nowraplinks navbox-subgroup\" style=\"border-spacing:0\"><tbody><tr><td class=\"navbox-list navbox-odd\" colspan=\"2\" style=\"width:100%;padding:0\"><div style=\"padding:0 0.25em\">\n",
            "<ul><li><a href=\"/wiki/Capital_accumulation\" title=\"Capital accumulation\">Capital accumulation</a>\n",
            "<ul><li><a href=\"/wiki/Overaccumulation\" title=\"Overaccumulation\">Overaccumulation</a></li></ul></li>\n",
            "<li><a href=\"/wiki/Economic_inequality\" title=\"Economic inequality\">Economic inequality</a>\n",
            "<ul><li><a class=\"mw-redirect\" href=\"/wiki/Wealth_distribution\" title=\"Wealth distribution\">Wealth distribution</a></li>\n",
            "<li><a href=\"/wiki/Income_distribution\" title=\"Income distribution\">Income distribution</a></li>\n",
            "<li><a href=\"/wiki/Consumption_distribution\" title=\"Consumption distribution\">Consumption distribution</a></li></ul></li>\n",
            "<li><a href=\"/wiki/Elite\" title=\"Elite\">Elite</a></li>\n",
            "<li><a href=\"/wiki/Oligarchy\" title=\"Oligarchy\">Oligarchy</a></li>\n",
            "<li><a href=\"/wiki/Overclass\" title=\"Overclass\">Overclass</a></li>\n",
            "<li><a href=\"/wiki/Plutocracy\" title=\"Plutocracy\">Plutocracy</a></li>\n",
            "<li><a href=\"/wiki/Plutonomy\" title=\"Plutonomy\">Plutonomy</a></li>\n",
            "<li><a href=\"/wiki/Upper_class\" title=\"Upper class\">Upper class</a>\n",
            "<ul><li><a href=\"/wiki/Nouveau_riche\" title=\"Nouveau riche\"><i>Nouveau riche</i> <wbr/>(new money)</a></li>\n",
            "<li><a href=\"/wiki/Old_money\" title=\"Old money\"><i>Vieux riche</i> <wbr/>(old money)</a></li></ul></li>\n",
            "<li><a class=\"mw-redirect\" href=\"/wiki/Luxury_good\" title=\"Luxury good\">Luxury goods</a>\n",
            "<ul><li><a href=\"/wiki/Veblen_good\" title=\"Veblen good\">Veblen goods</a>\n",
            "<ul><li><a href=\"/wiki/Conspicuous_consumption\" title=\"Conspicuous consumption\">Conspicuous consumption</a></li>\n",
            "<li><a href=\"/wiki/Conspicuous_leisure\" title=\"Conspicuous leisure\">Conspicuous leisure</a></li></ul></li></ul></li></ul>\n",
            "</div></td></tr><tr><th class=\"navbox-group\" scope=\"row\" style=\"width:1%\">People</th><td class=\"navbox-list-with-group navbox-list navbox-even\" style=\"width:100%;padding:0\"><div style=\"padding:0 0.25em\">\n",
            "<ul><li><a href=\"/wiki/Billionaire\" title=\"Billionaire\">Billionaire</a></li>\n",
            "<li><a href=\"/wiki/Captain_of_industry\" title=\"Captain of industry\">Captain of industry</a></li>\n",
            "<li><a href=\"/wiki/High-net-worth_individual\" title=\"High-net-worth individual\">High-net-worth individual</a>\n",
            "<ul><li><a class=\"mw-redirect\" href=\"/wiki/Ultra_high-net-worth_individual\" title=\"Ultra high-net-worth individual\">UHNWI</a></li></ul></li>\n",
            "<li><a href=\"/wiki/Magnate\" title=\"Magnate\">Magnate</a>\n",
            "<ul><li><a href=\"/wiki/Business_magnate\" title=\"Business magnate\">Business</a></li></ul></li>\n",
            "<li><a href=\"/wiki/Millionaire\" title=\"Millionaire\">Millionaire</a></li>\n",
            "<li><a href=\"/wiki/Oligarchy\" title=\"Oligarchy\">Oligarch</a>\n",
            "<ul><li><a href=\"/wiki/Business_oligarch\" title=\"Business oligarch\">Business</a></li>\n",
            "<li><a href=\"/wiki/Russian_oligarchs\" title=\"Russian oligarchs\">Russian</a></li>\n",
            "<li><a href=\"/wiki/Ukrainian_oligarchs\" title=\"Ukrainian oligarchs\">Ukrainian</a></li></ul></li>\n",
            "<li><a href=\"/wiki/Robber_baron_(industrialist)\" title=\"Robber baron (industrialist)\">Robber baron</a></li></ul>\n",
            "</div></td></tr><tr><th class=\"navbox-group\" scope=\"row\" style=\"width:1%\"><a href=\"/wiki/Wealth\" title=\"Wealth\">Wealth</a></th><td class=\"navbox-list-with-group navbox-list navbox-odd\" style=\"width:100%;padding:0\"><div style=\"padding:0 0.25em\">\n",
            "<ul><li><a class=\"mw-redirect\" href=\"/wiki/Wealth_concentration\" title=\"Wealth concentration\">Concentration</a></li>\n",
            "<li><a href=\"/wiki/Distribution_of_wealth\" title=\"Distribution of wealth\">Distribution</a></li>\n",
            "<li><a class=\"mw-redirect\" href=\"/wiki/Dynastic_wealth\" title=\"Dynastic wealth\">Dynastic</a></li>\n",
            "<li><a href=\"/wiki/Wealth_effect\" title=\"Wealth effect\">Effect</a></li>\n",
            "<li><a href=\"/wiki/Geography_and_wealth\" title=\"Geography and wealth\">Geography</a></li>\n",
            "<li><a href=\"/wiki/Inheritance\" title=\"Inheritance\">Inherited</a></li>\n",
            "<li><a href=\"/wiki/Wealth_management\" title=\"Wealth management\">Management</a></li>\n",
            "<li><a class=\"mw-redirect\" href=\"/wiki/National_wealth\" title=\"National wealth\">National</a></li>\n",
            "<li><a href=\"/wiki/Paper_wealth\" title=\"Paper wealth\">Paper</a></li>\n",
            "<li><a href=\"/wiki/Wealth_and_religion\" title=\"Wealth and religion\">Religion</a></li>\n",
            "<li><a href=\"/wiki/Wealth_tax\" title=\"Wealth tax\">Tax</a></li></ul>\n",
            "</div></td></tr></tbody></table><div></div></td></tr><tr><th class=\"navbox-group\" scope=\"row\" style=\"width:1%\">Lists</th><td class=\"navbox-list-with-group navbox-list navbox-odd\" style=\"width:100%;padding:0\"><div style=\"padding:0 0.25em\"></div><table class=\"nowraplinks navbox-subgroup\" style=\"border-spacing:0\"><tbody><tr><th class=\"navbox-group\" scope=\"row\" style=\"width:1%\"><a href=\"/wiki/Lists_of_people_by_net_worth\" title=\"Lists of people by net worth\">People</a></th><td class=\"navbox-list-with-group navbox-list navbox-even\" style=\"width:100%;padding:0\"><div style=\"padding:0 0.25em\">\n",
            "<ul><li><a href=\"/wiki/The_World%27s_Billionaires\" title=\"The World's Billionaires\"><i>Forbes</i> list of billionaires</a></li>\n",
            "<li><a href=\"/wiki/List_of_centibillionaires\" title=\"List of centibillionaires\">List of centibillionaires</a></li>\n",
            "<li><a href=\"/wiki/List_of_female_billionaires\" title=\"List of female billionaires\">Female billionaires</a></li>\n",
            "<li><a href=\"/wiki/List_of_royalty_by_net_worth\" title=\"List of royalty by net worth\">Richest royals</a></li>\n",
            "<li><a href=\"/wiki/List_of_richest_Americans_in_history\" title=\"List of richest Americans in history\">Wealthiest Americans</a></li>\n",
            "<li><a href=\"/wiki/List_of_wealthiest_families\" title=\"List of wealthiest families\">Wealthiest families</a></li>\n",
            "<li><a href=\"/wiki/List_of_wealthiest_historical_figures\" title=\"List of wealthiest historical figures\">Wealthiest historical figures</a></li></ul>\n",
            "</div></td></tr><tr><th class=\"navbox-group\" scope=\"row\" style=\"width:1%\"><a class=\"mw-redirect\" href=\"/wiki/List_of_wealthiest_organizations\" title=\"List of wealthiest organizations\">Organizations</a></th><td class=\"navbox-list-with-group navbox-list navbox-odd\" style=\"width:100%;padding:0\"><div style=\"padding:0 0.25em\">\n",
            "<ul><li><a class=\"mw-selflink selflink\">Largest companies by revenue</a></li>\n",
            "<li><a href=\"/wiki/List_of_largest_corporate_profits_and_losses\" title=\"List of largest corporate profits and losses\">Largest corporate profits and losses</a></li>\n",
            "<li><a href=\"/wiki/List_of_public_corporations_by_market_capitalization\" title=\"List of public corporations by market capitalization\">Largest corporations by market capitalization</a></li>\n",
            "<li><a href=\"/wiki/List_of_largest_financial_services_companies_by_revenue\" title=\"List of largest financial services companies by revenue\">Largest financial services companies by revenue</a></li>\n",
            "<li><a href=\"/wiki/List_of_largest_manufacturing_companies_by_revenue\" title=\"List of largest manufacturing companies by revenue\">Largest manufacturing companies by revenue</a></li>\n",
            "<li><a href=\"/wiki/List_of_the_largest_software_companies\" title=\"List of the largest software companies\">Largest software companies by revenue</a></li>\n",
            "<li><a href=\"/wiki/List_of_largest_technology_companies_by_revenue\" title=\"List of largest technology companies by revenue\">Largest technology companies by revenue</a></li>\n",
            "<li><a href=\"/wiki/List_of_wealthiest_charitable_foundations\" title=\"List of wealthiest charitable foundations\">Charities</a>\n",
            "<ul><li><a href=\"/wiki/List_of_philanthropists\" title=\"List of philanthropists\">Philanthropists</a></li></ul></li>\n",
            "<li>Universities\n",
            "<ul><li><a href=\"/wiki/Lists_of_institutions_of_higher_education_by_endowment_size\" title=\"Lists of institutions of higher education by endowment size\">Endowment size</a></li>\n",
            "<li><a href=\"/wiki/List_of_universities_by_number_of_billionaire_alumni\" title=\"List of universities by number of billionaire alumni\">Number of billionaire alumni</a></li></ul></li></ul>\n",
            "</div></td></tr><tr><th class=\"navbox-group\" scope=\"row\" style=\"width:1%\">Other</th><td class=\"navbox-list-with-group navbox-list navbox-even\" style=\"width:100%;padding:0\"><div style=\"padding:0 0.25em\">\n",
            "<ul><li><a href=\"/wiki/List_of_cities_by_number_of_billionaires\" title=\"List of cities by number of billionaires\">Cities by number of billionaires</a></li>\n",
            "<li><a class=\"mw-redirect\" href=\"/wiki/List_of_countries_by_the_number_of_billionaires\" title=\"List of countries by the number of billionaires\">Countries by number of billionaires</a></li>\n",
            "<li><a href=\"/wiki/List_of_countries_by_total_wealth\" title=\"List of countries by total wealth\">Countries by total wealth</a></li>\n",
            "<li><a href=\"/wiki/Lists_of_most_expensive_items_by_category\" title=\"Lists of most expensive items by category\">Most expensive items</a>\n",
            "<ul><li><a href=\"/wiki/Category:Lists_of_most_expensive_things\" title=\"Category:Lists of most expensive things\">by category</a></li></ul></li>\n",
            "<li><a href=\"/wiki/List_of_wealthiest_animals\" title=\"List of wealthiest animals\">Wealthiest animals</a></li></ul>\n",
            "</div></td></tr></tbody></table><div></div></td></tr><tr><th class=\"navbox-group\" scope=\"row\" style=\"width:1%\">Related</th><td class=\"navbox-list-with-group navbox-list navbox-odd\" style=\"width:100%;padding:0\"><div style=\"padding:0 0.25em\"></div><table class=\"nowraplinks navbox-subgroup\" style=\"border-spacing:0\"><tbody><tr><td class=\"navbox-list navbox-odd\" colspan=\"2\" style=\"width:100%;padding:0\"><div style=\"padding:0 0.25em\">\n",
            "<ul><li><a href=\"/wiki/Diseases_of_affluence\" title=\"Diseases of affluence\">Diseases of affluence</a>\n",
            "<ul><li><a href=\"/wiki/Affluenza\" title=\"Affluenza\">Affluenza</a></li>\n",
            "<li><a href=\"/wiki/Narcissism#Celebrity_narcissism\" title=\"Narcissism\">Acquired situational narcissism</a></li></ul></li>\n",
            "<li><i><a href=\"/wiki/Argumentum_ad_crumenam\" title=\"Argumentum ad crumenam\">Argumentum ad crumenam</a></i></li>\n",
            "<li><a href=\"/wiki/Prosperity_theology\" title=\"Prosperity theology\">Prosperity theology</a></li></ul>\n",
            "</div></td></tr><tr><th class=\"navbox-group\" scope=\"row\" style=\"width:1%\"><a href=\"/wiki/Philanthropy\" title=\"Philanthropy\">Philanthropy</a></th><td class=\"navbox-list-with-group navbox-list navbox-even\" style=\"width:100%;padding:0\"><div style=\"padding:0 0.25em\">\n",
            "<ul><li><a href=\"/wiki/The_Gospel_of_Wealth\" title=\"The Gospel of Wealth\">Gospel of Wealth</a></li>\n",
            "<li><a href=\"/wiki/The_Giving_Pledge\" title=\"The Giving Pledge\">The Giving Pledge</a></li>\n",
            "<li><a href=\"/wiki/Philanthrocapitalism\" title=\"Philanthrocapitalism\">Philanthrocapitalism</a></li>\n",
            "<li><a href=\"/wiki/Venture_philanthropy\" title=\"Venture philanthropy\">Venture philanthropy</a></li></ul>\n",
            "</div></td></tr><tr><th class=\"navbox-group\" scope=\"row\" style=\"width:1%\">Sayings</th><td class=\"navbox-list-with-group navbox-list navbox-odd\" style=\"width:100%;padding:0\"><div style=\"padding:0 0.25em\">\n",
            "<ul><li><a href=\"/wiki/The_rich_get_richer_and_the_poor_get_poorer\" title=\"The rich get richer and the poor get poorer\">The rich get richer and the poor get poorer</a></li>\n",
            "<li><a href=\"/wiki/Socialism_for_the_rich_and_capitalism_for_the_poor\" title=\"Socialism for the rich and capitalism for the poor\">Socialism for the rich and capitalism for the poor</a></li>\n",
            "<li><a href=\"/wiki/Too_big_to_fail\" title=\"Too big to fail\">Too big to fail</a></li></ul>\n",
            "</div></td></tr><tr><th class=\"navbox-group\" scope=\"row\" style=\"width:1%\">Media</th><td class=\"navbox-list-with-group navbox-list navbox-even\" style=\"width:100%;padding:0\"><div style=\"padding:0 0.25em\">\n",
            "<ul><li><i><a href=\"/wiki/Das_Kapital\" title=\"Das Kapital\">Das Kapital</a></i></li>\n",
            "<li><a href=\"/wiki/Plutus_(play)\" title=\"Plutus (play)\"><i>Plutus</i></a>\n",
            "<ul><li><a href=\"/wiki/Plutus\" title=\"Plutus\">Greek god of wealth</a></li></ul></li>\n",
            "<li><a href=\"/wiki/Superclass_(book)\" title=\"Superclass (book)\"><i>Superclass</i></a>\n",
            "<ul><li><a href=\"/wiki/The_Superclass_List\" title=\"The Superclass List\">List</a></li></ul></li>\n",
            "<li><i><a href=\"/wiki/The_Theory_of_the_Leisure_Class\" title=\"The Theory of the Leisure Class\">The Theory of the Leisure Class</a></i></li>\n",
            "<li><a href=\"/wiki/Wealth_(film)\" title=\"Wealth (film)\"><i>Wealth</i></a></li>\n",
            "<li><i><a href=\"/wiki/The_Wealth_of_Nations\" title=\"The Wealth of Nations\">The Wealth of Nations</a></i></li></ul>\n",
            "</div></td></tr></tbody></table><div></div></td></tr><tr><td class=\"navbox-abovebelow\" colspan=\"2\"><div>\n",
            "<ul><li><a href=\"/wiki/Category:Wealth\" title=\"Category:Wealth\">Category</a>\n",
            "<ul><li><a href=\"/wiki/Category:Wealth_by_country\" title=\"Category:Wealth by country\">by country</a></li>\n",
            "<li><a class=\"extiw\" href=\"https://commons.wikimedia.org/wiki/Category:Wealth\" title=\"c:Category:Wealth\">Commons</a></li></ul></li>\n",
            "<li><a href=\"/wiki/Special:Search/intitle:%22wealth%22\" title='Special:Search/intitle:\"wealth\"'>Search</a>\n",
            "<ul><li><a class=\"extiw\" href=\"https://commons.wikimedia.org/wiki/Special:Search/intitle:%22wealth%22\" title='c:Special:Search/intitle:\"wealth\"'>Commons</a></li></ul></li></ul>\n",
            "</div></td></tr></tbody></table>\n"
          ]
        }
      ]
    },
    {
      "cell_type": "code",
      "source": [
        "world_titles = soup.find_all('th')"
      ],
      "metadata": {
        "id": "iwJJaDUKVqja"
      },
      "execution_count": 20,
      "outputs": []
    },
    {
      "cell_type": "code",
      "source": [
        "world_titles"
      ],
      "metadata": {
        "colab": {
          "base_uri": "https://localhost:8080/"
        },
        "id": "_S8Vub60VyUy",
        "outputId": "43c3b90c-e99c-4b94-90fa-0cc55bcc51ac"
      },
      "execution_count": 21,
      "outputs": [
        {
          "output_type": "execute_result",
          "data": {
            "text/plain": [
              "[<th rowspan=\"2\" scope=\"col\">Rank\n",
              " </th>,\n",
              " <th rowspan=\"2\" scope=\"col\">Name\n",
              " </th>,\n",
              " <th rowspan=\"2\" scope=\"col\">Industry\n",
              " </th>,\n",
              " <th scope=\"col\">Revenue\n",
              " </th>,\n",
              " <th scope=\"col\">Profit\n",
              " </th>,\n",
              " <th rowspan=\"2\" scope=\"col\">Employees\n",
              " </th>,\n",
              " <th rowspan=\"2\" scope=\"col\">Headquarters<sup class=\"reference\" id=\"cite_ref-4\"><a href=\"#cite_note-4\">[note 1]</a></sup>\n",
              " </th>,\n",
              " <th rowspan=\"2\" scope=\"col\"><a href=\"/wiki/State-owned_enterprise\" title=\"State-owned enterprise\">State-owned</a>\n",
              " </th>,\n",
              " <th class=\"unsortable\" rowspan=\"2\" scope=\"col\"><abbr title=\"Reference(s)\">Ref.</abbr>\n",
              " </th>,\n",
              " <th colspan=\"2\" scope=\"col\"><small>USD millions</small>\n",
              " </th>,\n",
              " <th scope=\"column\">1\n",
              " </th>,\n",
              " <th scope=\"row\">2\n",
              " </th>,\n",
              " <th scope=\"row\">3\n",
              " </th>,\n",
              " <th scope=\"row\">4\n",
              " </th>,\n",
              " <th scope=\"row\">5\n",
              " </th>,\n",
              " <th scope=\"row\">6\n",
              " </th>,\n",
              " <th scope=\"row\">7\n",
              " </th>,\n",
              " <th scope=\"row\">8\n",
              " </th>,\n",
              " <th scope=\"row\">9\n",
              " </th>,\n",
              " <th scope=\"row\">10\n",
              " </th>,\n",
              " <th scope=\"row\">11\n",
              " </th>,\n",
              " <th scope=\"row\">12\n",
              " </th>,\n",
              " <th scope=\"row\">13\n",
              " </th>,\n",
              " <th scope=\"row\">14\n",
              " </th>,\n",
              " <th scope=\"row\">15\n",
              " </th>,\n",
              " <th scope=\"row\">16\n",
              " </th>,\n",
              " <th scope=\"row\">17\n",
              " </th>,\n",
              " <th scope=\"row\">18\n",
              " </th>,\n",
              " <th scope=\"row\">19\n",
              " </th>,\n",
              " <th scope=\"row\">20\n",
              " </th>,\n",
              " <th scope=\"row\">21\n",
              " </th>,\n",
              " <th scope=\"row\">22\n",
              " </th>,\n",
              " <th scope=\"row\">23\n",
              " </th>,\n",
              " <th scope=\"row\">24\n",
              " </th>,\n",
              " <th scope=\"row\">25\n",
              " </th>,\n",
              " <th scope=\"row\">26\n",
              " </th>,\n",
              " <th scope=\"row\">27\n",
              " </th>,\n",
              " <th scope=\"row\">28\n",
              " </th>,\n",
              " <th>29\n",
              " </th>,\n",
              " <th>30\n",
              " </th>,\n",
              " <th>31\n",
              " </th>,\n",
              " <th scope=\"row\">32\n",
              " </th>,\n",
              " <th scope=\"row\">33\n",
              " </th>,\n",
              " <th scope=\"row\">34\n",
              " </th>,\n",
              " <th scope=\"row\">35\n",
              " </th>,\n",
              " <th scope=\"row\">36\n",
              " </th>,\n",
              " <th scope=\"row\">37\n",
              " </th>,\n",
              " <th scope=\"row\">38\n",
              " </th>,\n",
              " <th scope=\"row\">39\n",
              " </th>,\n",
              " <th scope=\"row\">40\n",
              " </th>,\n",
              " <th>41\n",
              " </th>,\n",
              " <th scope=\"row\">42\n",
              " </th>,\n",
              " <th scope=\"row\">43\n",
              " </th>,\n",
              " <th scope=\"row\">44\n",
              " </th>,\n",
              " <th scope=\"row\">45\n",
              " </th>,\n",
              " <th scope=\"row\">46\n",
              " </th>,\n",
              " <th scope=\"row\">47\n",
              " </th>,\n",
              " <th scope=\"row\">48\n",
              " </th>,\n",
              " <th scope=\"row\">49\n",
              " </th>,\n",
              " <th scope=\"row\">50\n",
              " </th>,\n",
              " <th class=\"navbox-title\" colspan=\"2\" scope=\"col\"><link href=\"mw-data:TemplateStyles:r1129693374\" rel=\"mw-deduplicated-inline-style\"/><style data-mw-deduplicate=\"TemplateStyles:r1063604349\">.mw-parser-output .navbar{display:inline;font-size:88%;font-weight:normal}.mw-parser-output .navbar-collapse{float:left;text-align:left}.mw-parser-output .navbar-boxtext{word-spacing:0}.mw-parser-output .navbar ul{display:inline-block;white-space:nowrap;line-height:inherit}.mw-parser-output .navbar-brackets::before{margin-right:-0.125em;content:\"[ \"}.mw-parser-output .navbar-brackets::after{margin-left:-0.125em;content:\" ]\"}.mw-parser-output .navbar li{word-spacing:-0.125em}.mw-parser-output .navbar a>span,.mw-parser-output .navbar a>abbr{text-decoration:inherit}.mw-parser-output .navbar-mini abbr{font-variant:small-caps;border-bottom:none;text-decoration:none;cursor:inherit}.mw-parser-output .navbar-ct-full{font-size:114%;margin:0 7em}.mw-parser-output .navbar-ct-mini{font-size:114%;margin:0 4em}</style><div class=\"navbar plainlinks hlist navbar-mini\"><ul><li class=\"nv-view\"><a href=\"/wiki/Template:Wealth\" title=\"Template:Wealth\"><abbr style=\";;background:none transparent;border:none;box-shadow:none;padding:0;\" title=\"View this template\">v</abbr></a></li><li class=\"nv-talk\"><a href=\"/wiki/Template_talk:Wealth\" title=\"Template talk:Wealth\"><abbr style=\";;background:none transparent;border:none;box-shadow:none;padding:0;\" title=\"Discuss this template\">t</abbr></a></li><li class=\"nv-edit\"><a class=\"external text\" href=\"https://en.wikipedia.org/w/index.php?title=Template:Wealth&amp;action=edit\"><abbr style=\";;background:none transparent;border:none;box-shadow:none;padding:0;\" title=\"Edit this template\">e</abbr></a></li></ul></div><div id=\"Extreme_wealth\" style=\"font-size:114%;margin:0 4em\">Extreme <a href=\"/wiki/Wealth\" title=\"Wealth\">wealth</a></div></th>,\n",
              " <th class=\"navbox-group\" scope=\"row\" style=\"width:1%\">Concepts</th>,\n",
              " <th class=\"navbox-group\" scope=\"row\" style=\"width:1%\">People</th>,\n",
              " <th class=\"navbox-group\" scope=\"row\" style=\"width:1%\"><a href=\"/wiki/Wealth\" title=\"Wealth\">Wealth</a></th>,\n",
              " <th class=\"navbox-group\" scope=\"row\" style=\"width:1%\">Lists</th>,\n",
              " <th class=\"navbox-group\" scope=\"row\" style=\"width:1%\"><a href=\"/wiki/Lists_of_people_by_net_worth\" title=\"Lists of people by net worth\">People</a></th>,\n",
              " <th class=\"navbox-group\" scope=\"row\" style=\"width:1%\"><a class=\"mw-redirect\" href=\"/wiki/List_of_wealthiest_organizations\" title=\"List of wealthiest organizations\">Organizations</a></th>,\n",
              " <th class=\"navbox-group\" scope=\"row\" style=\"width:1%\">Other</th>,\n",
              " <th class=\"navbox-group\" scope=\"row\" style=\"width:1%\">Related</th>,\n",
              " <th class=\"navbox-group\" scope=\"row\" style=\"width:1%\"><a href=\"/wiki/Philanthropy\" title=\"Philanthropy\">Philanthropy</a></th>,\n",
              " <th class=\"navbox-group\" scope=\"row\" style=\"width:1%\">Sayings</th>,\n",
              " <th class=\"navbox-group\" scope=\"row\" style=\"width:1%\">Media</th>]"
            ]
          },
          "metadata": {},
          "execution_count": 21
        }
      ]
    },
    {
      "cell_type": "code",
      "source": [
        "world_tables_titles = [title.text.strip() for title in world_titles]\n",
        "\n",
        "print(world_tables_titles)"
      ],
      "metadata": {
        "colab": {
          "base_uri": "https://localhost:8080/"
        },
        "id": "CDt2OnKMV9ao",
        "outputId": "486fbee7-ae84-4671-823b-44379b6f1cf2"
      },
      "execution_count": 22,
      "outputs": [
        {
          "output_type": "stream",
          "name": "stdout",
          "text": [
            "['Rank', 'Name', 'Industry', 'Revenue', 'Profit', 'Employees', 'Headquarters[note 1]', 'State-owned', 'Ref.', 'USD millions', '1', '2', '3', '4', '5', '6', '7', '8', '9', '10', '11', '12', '13', '14', '15', '16', '17', '18', '19', '20', '21', '22', '23', '24', '25', '26', '27', '28', '29', '30', '31', '32', '33', '34', '35', '36', '37', '38', '39', '40', '41', '42', '43', '44', '45', '46', '47', '48', '49', '50', 'vteExtreme wealth', 'Concepts', 'People', 'Wealth', 'Lists', 'People', 'Organizations', 'Other', 'Related', 'Philanthropy', 'Sayings', 'Media']\n"
          ]
        }
      ]
    },
    {
      "cell_type": "code",
      "source": [
        "import pandas as pd"
      ],
      "metadata": {
        "id": "Ccm6ogI_WH4v"
      },
      "execution_count": 23,
      "outputs": []
    },
    {
      "cell_type": "code",
      "source": [
        "df = pd.DataFrame(columns = world_tables_titles)\n",
        "\n",
        "df"
      ],
      "metadata": {
        "colab": {
          "base_uri": "https://localhost:8080/",
          "height": 79
        },
        "id": "G5O37jw9W-Al",
        "outputId": "add37bfa-4223-48e9-a12e-d628c9751728"
      },
      "execution_count": 26,
      "outputs": [
        {
          "output_type": "execute_result",
          "data": {
            "text/plain": [
              "Empty DataFrame\n",
              "Columns: [Rank, Name, Industry, Revenue, Profit, Employees, Headquarters[note 1], State-owned, Ref., USD millions, 1, 2, 3, 4, 5, 6, 7, 8, 9, 10, 11, 12, 13, 14, 15, 16, 17, 18, 19, 20, 21, 22, 23, 24, 25, 26, 27, 28, 29, 30, 31, 32, 33, 34, 35, 36, 37, 38, 39, 40, 41, 42, 43, 44, 45, 46, 47, 48, 49, 50, vteExtreme wealth, Concepts, People, Wealth, Lists, People, Organizations, Other, Related, Philanthropy, Sayings, Media]\n",
              "Index: []\n",
              "\n",
              "[0 rows x 72 columns]"
            ],
            "text/html": [
              "\n",
              "\n",
              "  <div id=\"df-d6e083c2-8e06-4baf-bb5b-0419efae3e85\">\n",
              "    <div class=\"colab-df-container\">\n",
              "      <div>\n",
              "<style scoped>\n",
              "    .dataframe tbody tr th:only-of-type {\n",
              "        vertical-align: middle;\n",
              "    }\n",
              "\n",
              "    .dataframe tbody tr th {\n",
              "        vertical-align: top;\n",
              "    }\n",
              "\n",
              "    .dataframe thead th {\n",
              "        text-align: right;\n",
              "    }\n",
              "</style>\n",
              "<table border=\"1\" class=\"dataframe\">\n",
              "  <thead>\n",
              "    <tr style=\"text-align: right;\">\n",
              "      <th></th>\n",
              "      <th>Rank</th>\n",
              "      <th>Name</th>\n",
              "      <th>Industry</th>\n",
              "      <th>Revenue</th>\n",
              "      <th>Profit</th>\n",
              "      <th>Employees</th>\n",
              "      <th>Headquarters[note 1]</th>\n",
              "      <th>State-owned</th>\n",
              "      <th>Ref.</th>\n",
              "      <th>USD millions</th>\n",
              "      <th>...</th>\n",
              "      <th>People</th>\n",
              "      <th>Wealth</th>\n",
              "      <th>Lists</th>\n",
              "      <th>People</th>\n",
              "      <th>Organizations</th>\n",
              "      <th>Other</th>\n",
              "      <th>Related</th>\n",
              "      <th>Philanthropy</th>\n",
              "      <th>Sayings</th>\n",
              "      <th>Media</th>\n",
              "    </tr>\n",
              "  </thead>\n",
              "  <tbody>\n",
              "  </tbody>\n",
              "</table>\n",
              "<p>0 rows × 72 columns</p>\n",
              "</div>\n",
              "      <button class=\"colab-df-convert\" onclick=\"convertToInteractive('df-d6e083c2-8e06-4baf-bb5b-0419efae3e85')\"\n",
              "              title=\"Convert this dataframe to an interactive table.\"\n",
              "              style=\"display:none;\">\n",
              "\n",
              "  <svg xmlns=\"http://www.w3.org/2000/svg\" height=\"24px\"viewBox=\"0 0 24 24\"\n",
              "       width=\"24px\">\n",
              "    <path d=\"M0 0h24v24H0V0z\" fill=\"none\"/>\n",
              "    <path d=\"M18.56 5.44l.94 2.06.94-2.06 2.06-.94-2.06-.94-.94-2.06-.94 2.06-2.06.94zm-11 1L8.5 8.5l.94-2.06 2.06-.94-2.06-.94L8.5 2.5l-.94 2.06-2.06.94zm10 10l.94 2.06.94-2.06 2.06-.94-2.06-.94-.94-2.06-.94 2.06-2.06.94z\"/><path d=\"M17.41 7.96l-1.37-1.37c-.4-.4-.92-.59-1.43-.59-.52 0-1.04.2-1.43.59L10.3 9.45l-7.72 7.72c-.78.78-.78 2.05 0 2.83L4 21.41c.39.39.9.59 1.41.59.51 0 1.02-.2 1.41-.59l7.78-7.78 2.81-2.81c.8-.78.8-2.07 0-2.86zM5.41 20L4 18.59l7.72-7.72 1.47 1.35L5.41 20z\"/>\n",
              "  </svg>\n",
              "      </button>\n",
              "\n",
              "\n",
              "\n",
              "    <div id=\"df-1b491db1-0b58-4950-9e6c-55af6f44604d\">\n",
              "      <button class=\"colab-df-quickchart\" onclick=\"quickchart('df-1b491db1-0b58-4950-9e6c-55af6f44604d')\"\n",
              "              title=\"Suggest charts.\"\n",
              "              style=\"display:none;\">\n",
              "\n",
              "<svg xmlns=\"http://www.w3.org/2000/svg\" height=\"24px\"viewBox=\"0 0 24 24\"\n",
              "     width=\"24px\">\n",
              "    <g>\n",
              "        <path d=\"M19 3H5c-1.1 0-2 .9-2 2v14c0 1.1.9 2 2 2h14c1.1 0 2-.9 2-2V5c0-1.1-.9-2-2-2zM9 17H7v-7h2v7zm4 0h-2V7h2v10zm4 0h-2v-4h2v4z\"/>\n",
              "    </g>\n",
              "</svg>\n",
              "      </button>\n",
              "    </div>\n",
              "\n",
              "<style>\n",
              "  .colab-df-quickchart {\n",
              "    background-color: #E8F0FE;\n",
              "    border: none;\n",
              "    border-radius: 50%;\n",
              "    cursor: pointer;\n",
              "    display: none;\n",
              "    fill: #1967D2;\n",
              "    height: 32px;\n",
              "    padding: 0 0 0 0;\n",
              "    width: 32px;\n",
              "  }\n",
              "\n",
              "  .colab-df-quickchart:hover {\n",
              "    background-color: #E2EBFA;\n",
              "    box-shadow: 0px 1px 2px rgba(60, 64, 67, 0.3), 0px 1px 3px 1px rgba(60, 64, 67, 0.15);\n",
              "    fill: #174EA6;\n",
              "  }\n",
              "\n",
              "  [theme=dark] .colab-df-quickchart {\n",
              "    background-color: #3B4455;\n",
              "    fill: #D2E3FC;\n",
              "  }\n",
              "\n",
              "  [theme=dark] .colab-df-quickchart:hover {\n",
              "    background-color: #434B5C;\n",
              "    box-shadow: 0px 1px 3px 1px rgba(0, 0, 0, 0.15);\n",
              "    filter: drop-shadow(0px 1px 2px rgba(0, 0, 0, 0.3));\n",
              "    fill: #FFFFFF;\n",
              "  }\n",
              "</style>\n",
              "\n",
              "    <script>\n",
              "      async function quickchart(key) {\n",
              "        const containerElement = document.querySelector('#' + key);\n",
              "        const charts = await google.colab.kernel.invokeFunction(\n",
              "            'suggestCharts', [key], {});\n",
              "      }\n",
              "    </script>\n",
              "\n",
              "      <script>\n",
              "\n",
              "function displayQuickchartButton(domScope) {\n",
              "  let quickchartButtonEl =\n",
              "    domScope.querySelector('#df-1b491db1-0b58-4950-9e6c-55af6f44604d button.colab-df-quickchart');\n",
              "  quickchartButtonEl.style.display =\n",
              "    google.colab.kernel.accessAllowed ? 'block' : 'none';\n",
              "}\n",
              "\n",
              "        displayQuickchartButton(document);\n",
              "      </script>\n",
              "      <style>\n",
              "    .colab-df-container {\n",
              "      display:flex;\n",
              "      flex-wrap:wrap;\n",
              "      gap: 12px;\n",
              "    }\n",
              "\n",
              "    .colab-df-convert {\n",
              "      background-color: #E8F0FE;\n",
              "      border: none;\n",
              "      border-radius: 50%;\n",
              "      cursor: pointer;\n",
              "      display: none;\n",
              "      fill: #1967D2;\n",
              "      height: 32px;\n",
              "      padding: 0 0 0 0;\n",
              "      width: 32px;\n",
              "    }\n",
              "\n",
              "    .colab-df-convert:hover {\n",
              "      background-color: #E2EBFA;\n",
              "      box-shadow: 0px 1px 2px rgba(60, 64, 67, 0.3), 0px 1px 3px 1px rgba(60, 64, 67, 0.15);\n",
              "      fill: #174EA6;\n",
              "    }\n",
              "\n",
              "    [theme=dark] .colab-df-convert {\n",
              "      background-color: #3B4455;\n",
              "      fill: #D2E3FC;\n",
              "    }\n",
              "\n",
              "    [theme=dark] .colab-df-convert:hover {\n",
              "      background-color: #434B5C;\n",
              "      box-shadow: 0px 1px 3px 1px rgba(0, 0, 0, 0.15);\n",
              "      filter: drop-shadow(0px 1px 2px rgba(0, 0, 0, 0.3));\n",
              "      fill: #FFFFFF;\n",
              "    }\n",
              "  </style>\n",
              "\n",
              "      <script>\n",
              "        const buttonEl =\n",
              "          document.querySelector('#df-d6e083c2-8e06-4baf-bb5b-0419efae3e85 button.colab-df-convert');\n",
              "        buttonEl.style.display =\n",
              "          google.colab.kernel.accessAllowed ? 'block' : 'none';\n",
              "\n",
              "        async function convertToInteractive(key) {\n",
              "          const element = document.querySelector('#df-d6e083c2-8e06-4baf-bb5b-0419efae3e85');\n",
              "          const dataTable =\n",
              "            await google.colab.kernel.invokeFunction('convertToInteractive',\n",
              "                                                     [key], {});\n",
              "          if (!dataTable) return;\n",
              "\n",
              "          const docLinkHtml = 'Like what you see? Visit the ' +\n",
              "            '<a target=\"_blank\" href=https://colab.research.google.com/notebooks/data_table.ipynb>data table notebook</a>'\n",
              "            + ' to learn more about interactive tables.';\n",
              "          element.innerHTML = '';\n",
              "          dataTable['output_type'] = 'display_data';\n",
              "          await google.colab.output.renderOutput(dataTable, element);\n",
              "          const docLink = document.createElement('div');\n",
              "          docLink.innerHTML = docLinkHtml;\n",
              "          element.appendChild(docLink);\n",
              "        }\n",
              "      </script>\n",
              "    </div>\n",
              "  </div>\n"
            ]
          },
          "metadata": {},
          "execution_count": 26
        }
      ]
    },
    {
      "cell_type": "code",
      "source": [
        "column_data = table.find_all('tr')"
      ],
      "metadata": {
        "id": "pRE_xiEfXFXN"
      },
      "execution_count": 28,
      "outputs": []
    },
    {
      "cell_type": "code",
      "source": [
        "for row in column_data:\n",
        "    row_data = row.find_all('td')\n",
        "    individual_row_data = [data.text.strip() for data in row_data]\n",
        "    print(individual_row_data)"
      ],
      "metadata": {
        "colab": {
          "base_uri": "https://localhost:8080/"
        },
        "id": "-8Cj0r42XW6g",
        "outputId": "f6d5f8b7-917e-4831-d0f6-a19de49f035e"
      },
      "execution_count": 32,
      "outputs": [
        {
          "output_type": "stream",
          "name": "stdout",
          "text": [
            "[]\n",
            "['Capital accumulation\\nOveraccumulation\\nEconomic inequality\\nWealth distribution\\nIncome distribution\\nConsumption distribution\\nElite\\nOligarchy\\nOverclass\\nPlutocracy\\nPlutonomy\\nUpper class\\nNouveau riche (new money)\\nVieux riche (old money)\\nLuxury goods\\nVeblen goods\\nConspicuous consumption\\nConspicuous leisure\\nPeople\\nBillionaire\\nCaptain of industry\\nHigh-net-worth individual\\nUHNWI\\nMagnate\\nBusiness\\nMillionaire\\nOligarch\\nBusiness\\nRussian\\nUkrainian\\nRobber baron\\nWealth\\nConcentration\\nDistribution\\nDynastic\\nEffect\\nGeography\\nInherited\\nManagement\\nNational\\nPaper\\nReligion\\nTax', 'Capital accumulation\\nOveraccumulation\\nEconomic inequality\\nWealth distribution\\nIncome distribution\\nConsumption distribution\\nElite\\nOligarchy\\nOverclass\\nPlutocracy\\nPlutonomy\\nUpper class\\nNouveau riche (new money)\\nVieux riche (old money)\\nLuxury goods\\nVeblen goods\\nConspicuous consumption\\nConspicuous leisure', 'Billionaire\\nCaptain of industry\\nHigh-net-worth individual\\nUHNWI\\nMagnate\\nBusiness\\nMillionaire\\nOligarch\\nBusiness\\nRussian\\nUkrainian\\nRobber baron', 'Concentration\\nDistribution\\nDynastic\\nEffect\\nGeography\\nInherited\\nManagement\\nNational\\nPaper\\nReligion\\nTax']\n",
            "['Capital accumulation\\nOveraccumulation\\nEconomic inequality\\nWealth distribution\\nIncome distribution\\nConsumption distribution\\nElite\\nOligarchy\\nOverclass\\nPlutocracy\\nPlutonomy\\nUpper class\\nNouveau riche (new money)\\nVieux riche (old money)\\nLuxury goods\\nVeblen goods\\nConspicuous consumption\\nConspicuous leisure']\n",
            "['Billionaire\\nCaptain of industry\\nHigh-net-worth individual\\nUHNWI\\nMagnate\\nBusiness\\nMillionaire\\nOligarch\\nBusiness\\nRussian\\nUkrainian\\nRobber baron']\n",
            "['Concentration\\nDistribution\\nDynastic\\nEffect\\nGeography\\nInherited\\nManagement\\nNational\\nPaper\\nReligion\\nTax']\n",
            "['People\\nForbes list of billionaires\\nList of centibillionaires\\nFemale billionaires\\nRichest royals\\nWealthiest Americans\\nWealthiest families\\nWealthiest historical figures\\nOrganizations\\nLargest companies by revenue\\nLargest corporate profits and losses\\nLargest corporations by market capitalization\\nLargest financial services companies by revenue\\nLargest manufacturing companies by revenue\\nLargest software companies by revenue\\nLargest technology companies by revenue\\nCharities\\nPhilanthropists\\nUniversities\\nEndowment size\\nNumber of billionaire alumni\\nOther\\nCities by number of billionaires\\nCountries by number of billionaires\\nCountries by total wealth\\nMost expensive items\\nby category\\nWealthiest animals', 'Forbes list of billionaires\\nList of centibillionaires\\nFemale billionaires\\nRichest royals\\nWealthiest Americans\\nWealthiest families\\nWealthiest historical figures', 'Largest companies by revenue\\nLargest corporate profits and losses\\nLargest corporations by market capitalization\\nLargest financial services companies by revenue\\nLargest manufacturing companies by revenue\\nLargest software companies by revenue\\nLargest technology companies by revenue\\nCharities\\nPhilanthropists\\nUniversities\\nEndowment size\\nNumber of billionaire alumni', 'Cities by number of billionaires\\nCountries by number of billionaires\\nCountries by total wealth\\nMost expensive items\\nby category\\nWealthiest animals']\n",
            "['Forbes list of billionaires\\nList of centibillionaires\\nFemale billionaires\\nRichest royals\\nWealthiest Americans\\nWealthiest families\\nWealthiest historical figures']\n",
            "['Largest companies by revenue\\nLargest corporate profits and losses\\nLargest corporations by market capitalization\\nLargest financial services companies by revenue\\nLargest manufacturing companies by revenue\\nLargest software companies by revenue\\nLargest technology companies by revenue\\nCharities\\nPhilanthropists\\nUniversities\\nEndowment size\\nNumber of billionaire alumni']\n",
            "['Cities by number of billionaires\\nCountries by number of billionaires\\nCountries by total wealth\\nMost expensive items\\nby category\\nWealthiest animals']\n",
            "['Diseases of affluence\\nAffluenza\\nAcquired situational narcissism\\nArgumentum ad crumenam\\nProsperity theology\\nPhilanthropy\\nGospel of Wealth\\nThe Giving Pledge\\nPhilanthrocapitalism\\nVenture philanthropy\\nSayings\\nThe rich get richer and the poor get poorer\\nSocialism for the rich and capitalism for the poor\\nToo big to fail\\nMedia\\nDas Kapital\\nPlutus\\nGreek god of wealth\\nSuperclass\\nList\\nThe Theory of the Leisure Class\\nWealth\\nThe Wealth of Nations', 'Diseases of affluence\\nAffluenza\\nAcquired situational narcissism\\nArgumentum ad crumenam\\nProsperity theology', 'Gospel of Wealth\\nThe Giving Pledge\\nPhilanthrocapitalism\\nVenture philanthropy', 'The rich get richer and the poor get poorer\\nSocialism for the rich and capitalism for the poor\\nToo big to fail', 'Das Kapital\\nPlutus\\nGreek god of wealth\\nSuperclass\\nList\\nThe Theory of the Leisure Class\\nWealth\\nThe Wealth of Nations']\n",
            "['Diseases of affluence\\nAffluenza\\nAcquired situational narcissism\\nArgumentum ad crumenam\\nProsperity theology']\n",
            "['Gospel of Wealth\\nThe Giving Pledge\\nPhilanthrocapitalism\\nVenture philanthropy']\n",
            "['The rich get richer and the poor get poorer\\nSocialism for the rich and capitalism for the poor\\nToo big to fail']\n",
            "['Das Kapital\\nPlutus\\nGreek god of wealth\\nSuperclass\\nList\\nThe Theory of the Leisure Class\\nWealth\\nThe Wealth of Nations']\n",
            "['Category\\nby country\\nCommons\\nSearch\\nCommons']\n"
          ]
        }
      ]
    },
    {
      "cell_type": "code",
      "source": [
        "for row in column_data[1:]:\n",
        "    row_data = row.find_all('td')\n",
        "    individual_row_data = [data.text.strip() for data in row_data]\n",
        "\n",
        "\n",
        "    length = len(df)\n",
        "    df.loc[length] = individual_row_data"
      ],
      "metadata": {
        "colab": {
          "base_uri": "https://localhost:8080/",
          "height": 345
        },
        "id": "lYSJHDMuXsk-",
        "outputId": "9b84f138-ab72-4806-bc1b-73a2a6293a9e"
      },
      "execution_count": 35,
      "outputs": [
        {
          "output_type": "error",
          "ename": "ValueError",
          "evalue": "ignored",
          "traceback": [
            "\u001b[0;31m---------------------------------------------------------------------------\u001b[0m",
            "\u001b[0;31mValueError\u001b[0m                                Traceback (most recent call last)",
            "\u001b[0;32m<ipython-input-35-37f86cd0ccc3>\u001b[0m in \u001b[0;36m<cell line: 1>\u001b[0;34m()\u001b[0m\n\u001b[1;32m      5\u001b[0m \u001b[0;34m\u001b[0m\u001b[0m\n\u001b[1;32m      6\u001b[0m     \u001b[0mlength\u001b[0m \u001b[0;34m=\u001b[0m \u001b[0mlen\u001b[0m\u001b[0;34m(\u001b[0m\u001b[0mdf\u001b[0m\u001b[0;34m)\u001b[0m\u001b[0;34m\u001b[0m\u001b[0;34m\u001b[0m\u001b[0m\n\u001b[0;32m----> 7\u001b[0;31m     \u001b[0mdf\u001b[0m\u001b[0;34m.\u001b[0m\u001b[0mloc\u001b[0m\u001b[0;34m[\u001b[0m\u001b[0mlength\u001b[0m\u001b[0;34m]\u001b[0m \u001b[0;34m=\u001b[0m \u001b[0mindividual_row_data\u001b[0m\u001b[0;34m\u001b[0m\u001b[0;34m\u001b[0m\u001b[0m\n\u001b[0m",
            "\u001b[0;32m/usr/local/lib/python3.10/dist-packages/pandas/core/indexing.py\u001b[0m in \u001b[0;36m__setitem__\u001b[0;34m(self, key, value)\u001b[0m\n\u001b[1;32m    816\u001b[0m \u001b[0;34m\u001b[0m\u001b[0m\n\u001b[1;32m    817\u001b[0m         \u001b[0miloc\u001b[0m \u001b[0;34m=\u001b[0m \u001b[0mself\u001b[0m \u001b[0;32mif\u001b[0m \u001b[0mself\u001b[0m\u001b[0;34m.\u001b[0m\u001b[0mname\u001b[0m \u001b[0;34m==\u001b[0m \u001b[0;34m\"iloc\"\u001b[0m \u001b[0;32melse\u001b[0m \u001b[0mself\u001b[0m\u001b[0;34m.\u001b[0m\u001b[0mobj\u001b[0m\u001b[0;34m.\u001b[0m\u001b[0miloc\u001b[0m\u001b[0;34m\u001b[0m\u001b[0;34m\u001b[0m\u001b[0m\n\u001b[0;32m--> 818\u001b[0;31m         \u001b[0miloc\u001b[0m\u001b[0;34m.\u001b[0m\u001b[0m_setitem_with_indexer\u001b[0m\u001b[0;34m(\u001b[0m\u001b[0mindexer\u001b[0m\u001b[0;34m,\u001b[0m \u001b[0mvalue\u001b[0m\u001b[0;34m,\u001b[0m \u001b[0mself\u001b[0m\u001b[0;34m.\u001b[0m\u001b[0mname\u001b[0m\u001b[0;34m)\u001b[0m\u001b[0;34m\u001b[0m\u001b[0;34m\u001b[0m\u001b[0m\n\u001b[0m\u001b[1;32m    819\u001b[0m \u001b[0;34m\u001b[0m\u001b[0m\n\u001b[1;32m    820\u001b[0m     \u001b[0;32mdef\u001b[0m \u001b[0m_validate_key\u001b[0m\u001b[0;34m(\u001b[0m\u001b[0mself\u001b[0m\u001b[0;34m,\u001b[0m \u001b[0mkey\u001b[0m\u001b[0;34m,\u001b[0m \u001b[0maxis\u001b[0m\u001b[0;34m:\u001b[0m \u001b[0mint\u001b[0m\u001b[0;34m)\u001b[0m\u001b[0;34m:\u001b[0m\u001b[0;34m\u001b[0m\u001b[0;34m\u001b[0m\u001b[0m\n",
            "\u001b[0;32m/usr/local/lib/python3.10/dist-packages/pandas/core/indexing.py\u001b[0m in \u001b[0;36m_setitem_with_indexer\u001b[0;34m(self, indexer, value, name)\u001b[0m\n\u001b[1;32m   1783\u001b[0m \u001b[0;34m\u001b[0m\u001b[0m\n\u001b[1;32m   1784\u001b[0m             \u001b[0;32mif\u001b[0m \u001b[0mmissing\u001b[0m\u001b[0;34m:\u001b[0m\u001b[0;34m\u001b[0m\u001b[0;34m\u001b[0m\u001b[0m\n\u001b[0;32m-> 1785\u001b[0;31m                 \u001b[0mself\u001b[0m\u001b[0;34m.\u001b[0m\u001b[0m_setitem_with_indexer_missing\u001b[0m\u001b[0;34m(\u001b[0m\u001b[0mindexer\u001b[0m\u001b[0;34m,\u001b[0m \u001b[0mvalue\u001b[0m\u001b[0;34m)\u001b[0m\u001b[0;34m\u001b[0m\u001b[0;34m\u001b[0m\u001b[0m\n\u001b[0m\u001b[1;32m   1786\u001b[0m                 \u001b[0;32mreturn\u001b[0m\u001b[0;34m\u001b[0m\u001b[0;34m\u001b[0m\u001b[0m\n\u001b[1;32m   1787\u001b[0m \u001b[0;34m\u001b[0m\u001b[0m\n",
            "\u001b[0;32m/usr/local/lib/python3.10/dist-packages/pandas/core/indexing.py\u001b[0m in \u001b[0;36m_setitem_with_indexer_missing\u001b[0;34m(self, indexer, value)\u001b[0m\n\u001b[1;32m   2158\u001b[0m                     \u001b[0;31m# must have conforming columns\u001b[0m\u001b[0;34m\u001b[0m\u001b[0;34m\u001b[0m\u001b[0m\n\u001b[1;32m   2159\u001b[0m                     \u001b[0;32mif\u001b[0m \u001b[0mlen\u001b[0m\u001b[0;34m(\u001b[0m\u001b[0mvalue\u001b[0m\u001b[0;34m)\u001b[0m \u001b[0;34m!=\u001b[0m \u001b[0mlen\u001b[0m\u001b[0;34m(\u001b[0m\u001b[0mself\u001b[0m\u001b[0;34m.\u001b[0m\u001b[0mobj\u001b[0m\u001b[0;34m.\u001b[0m\u001b[0mcolumns\u001b[0m\u001b[0;34m)\u001b[0m\u001b[0;34m:\u001b[0m\u001b[0;34m\u001b[0m\u001b[0;34m\u001b[0m\u001b[0m\n\u001b[0;32m-> 2160\u001b[0;31m                         \u001b[0;32mraise\u001b[0m \u001b[0mValueError\u001b[0m\u001b[0;34m(\u001b[0m\u001b[0;34m\"cannot set a row with mismatched columns\"\u001b[0m\u001b[0;34m)\u001b[0m\u001b[0;34m\u001b[0m\u001b[0;34m\u001b[0m\u001b[0m\n\u001b[0m\u001b[1;32m   2161\u001b[0m \u001b[0;34m\u001b[0m\u001b[0m\n\u001b[1;32m   2162\u001b[0m                 \u001b[0mvalue\u001b[0m \u001b[0;34m=\u001b[0m \u001b[0mSeries\u001b[0m\u001b[0;34m(\u001b[0m\u001b[0mvalue\u001b[0m\u001b[0;34m,\u001b[0m \u001b[0mindex\u001b[0m\u001b[0;34m=\u001b[0m\u001b[0mself\u001b[0m\u001b[0;34m.\u001b[0m\u001b[0mobj\u001b[0m\u001b[0;34m.\u001b[0m\u001b[0mcolumns\u001b[0m\u001b[0;34m,\u001b[0m \u001b[0mname\u001b[0m\u001b[0;34m=\u001b[0m\u001b[0mindexer\u001b[0m\u001b[0;34m)\u001b[0m\u001b[0;34m\u001b[0m\u001b[0;34m\u001b[0m\u001b[0m\n",
            "\u001b[0;31mValueError\u001b[0m: cannot set a row with mismatched columns"
          ]
        }
      ]
    },
    {
      "cell_type": "code",
      "source": [
        "df.to_csv(r'W:\\AlexTheAnalyst - Bootcamp\\Projects\\Python Projects\\Companies.csv',index = false)"
      ],
      "metadata": {
        "id": "M_YRrBHqZRE2"
      },
      "execution_count": null,
      "outputs": []
    }
  ]
}