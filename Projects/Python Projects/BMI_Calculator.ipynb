{
  "nbformat": 4,
  "nbformat_minor": 0,
  "metadata": {
    "colab": {
      "provenance": []
    },
    "kernelspec": {
      "name": "python3",
      "display_name": "Python 3"
    },
    "language_info": {
      "name": "python"
    }
  },
  "cells": [
    {
      "cell_type": "markdown",
      "source": [
        "https://www.cdc.gov/healthyweight/assessing/bmi/adult_bmi/english_bmi_calculator/bmi_calculator.html"
      ],
      "metadata": {
        "id": "5BX2phiT6JxR"
      }
    },
    {
      "cell_type": "code",
      "source": [
        "weight = int(input(\"Enter your weight in pounds: \"))\n",
        "\n",
        "height = int(input (\"Enter your height in inches: \"))\n",
        "\n",
        "BMI = (weight * 703)/(height * height)\n",
        "\n",
        "print(BMI)"
      ],
      "metadata": {
        "colab": {
          "base_uri": "https://localhost:8080/"
        },
        "id": "DDEmsZgL6U_n",
        "outputId": "919e3af2-0d67-4714-ea01-ef34c27ff033"
      },
      "execution_count": 8,
      "outputs": [
        {
          "output_type": "stream",
          "name": "stdout",
          "text": [
            "Enter your weight in pounds: 210\n",
            "Enter your height in inches: 75\n",
            "26.245333333333335\n"
          ]
        }
      ]
    },
    {
      "cell_type": "code",
      "source": [],
      "metadata": {
        "id": "iikNstAn6lDc"
      },
      "execution_count": null,
      "outputs": []
    },
    {
      "cell_type": "code",
      "source": [
        "BMI = Formula: weight (lb) / [height (in)]2 x 703"
      ],
      "metadata": {
        "id": "fhad59qE6NCH"
      },
      "execution_count": null,
      "outputs": []
    },
    {
      "cell_type": "code",
      "source": [],
      "metadata": {
        "id": "q5B5ApRp8I04"
      },
      "execution_count": null,
      "outputs": []
    },
    {
      "cell_type": "code",
      "source": [
        "Below 18.5\tUnderweight\n",
        "18.5 – 24.9\tHealthy Weight\n",
        "25.0 – 29.9\tOverweight\n",
        "30.0 and Above\tObesity"
      ],
      "metadata": {
        "id": "6P0pMgVr8Lfw"
      },
      "execution_count": null,
      "outputs": []
    },
    {
      "cell_type": "code",
      "source": [],
      "metadata": {
        "id": "6HotybR38L4K"
      },
      "execution_count": null,
      "outputs": []
    },
    {
      "cell_type": "code",
      "source": [
        "if BMI>0:\n",
        "  if(BMI<18.5):\n",
        "    print(\"Underweight\")\n",
        "  elif(BMI<=24.9):\n",
        "    print(\"Healthy Weight\")\n",
        "  elif(BMI<=29.9):\n",
        "    print(\"Overweight\")\n",
        "  elif(BMI<=30):\n",
        "    print(\"Obese\")\n",
        "  else:\n",
        "    print(\"Enter Valid input\")\n"
      ],
      "metadata": {
        "colab": {
          "base_uri": "https://localhost:8080/"
        },
        "id": "EGZcJatQ8MEz",
        "outputId": "817d7730-5bfd-43e9-bece-683d5e1a4925"
      },
      "execution_count": 10,
      "outputs": [
        {
          "output_type": "stream",
          "name": "stdout",
          "text": [
            "Overweight\n"
          ]
        }
      ]
    },
    {
      "cell_type": "code",
      "source": [],
      "metadata": {
        "id": "PSGm-66H9WAS"
      },
      "execution_count": null,
      "outputs": []
    }
  ]
}