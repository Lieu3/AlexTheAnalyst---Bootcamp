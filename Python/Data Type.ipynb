{
  "nbformat": 4,
  "nbformat_minor": 0,
  "metadata": {
    "colab": {
      "provenance": []
    },
    "kernelspec": {
      "name": "python3",
      "display_name": "Python 3"
    },
    "language_info": {
      "name": "python"
    }
  },
  "cells": [
    {
      "cell_type": "code",
      "execution_count": 1,
      "metadata": {
        "colab": {
          "base_uri": "https://localhost:8080/"
        },
        "id": "qWvkj0okWRU9",
        "outputId": "cfb4cba7-5f04-4e41-f8a7-37bdfa38ccb3"
      },
      "outputs": [
        {
          "output_type": "execute_result",
          "data": {
            "text/plain": [
              "int"
            ]
          },
          "metadata": {},
          "execution_count": 1
        }
      ],
      "source": [
        "type(12)"
      ]
    },
    {
      "cell_type": "code",
      "source": [
        "type(12+10.5)"
      ],
      "metadata": {
        "colab": {
          "base_uri": "https://localhost:8080/"
        },
        "id": "p6w5qmYTWTPZ",
        "outputId": "9c8f7dac-8307-425c-d38d-48a81a640312"
      },
      "execution_count": 2,
      "outputs": [
        {
          "output_type": "execute_result",
          "data": {
            "text/plain": [
              "float"
            ]
          },
          "metadata": {},
          "execution_count": 2
        }
      ]
    },
    {
      "cell_type": "code",
      "source": [
        "# j will be the only can be used as an imaginary\n",
        "\n",
        "type(12+3j)"
      ],
      "metadata": {
        "colab": {
          "base_uri": "https://localhost:8080/"
        },
        "id": "mATKlQPFWbYI",
        "outputId": "8cd8ad6a-a53c-4749-9f46-84aba65df319"
      },
      "execution_count": 3,
      "outputs": [
        {
          "output_type": "execute_result",
          "data": {
            "text/plain": [
              "complex"
            ]
          },
          "metadata": {},
          "execution_count": 3
        }
      ]
    },
    {
      "cell_type": "code",
      "source": [
        "#BooLean, only be True or False\n",
        "\n",
        "type(True)"
      ],
      "metadata": {
        "colab": {
          "base_uri": "https://localhost:8080/"
        },
        "id": "-fqamBUiWebI",
        "outputId": "d6f0dbcb-1cc9-46c7-872e-724de5d5b5ad"
      },
      "execution_count": 5,
      "outputs": [
        {
          "output_type": "execute_result",
          "data": {
            "text/plain": [
              "bool"
            ]
          },
          "metadata": {},
          "execution_count": 5
        }
      ]
    },
    {
      "cell_type": "code",
      "source": [
        "type(1>5)"
      ],
      "metadata": {
        "colab": {
          "base_uri": "https://localhost:8080/"
        },
        "id": "cKpgu_2iWrTQ",
        "outputId": "d09e0f19-a8bd-4c76-a9ac-b83713f3b2c1"
      },
      "execution_count": 6,
      "outputs": [
        {
          "output_type": "execute_result",
          "data": {
            "text/plain": [
              "bool"
            ]
          },
          "metadata": {},
          "execution_count": 6
        }
      ]
    },
    {
      "cell_type": "code",
      "source": [
        "1>5"
      ],
      "metadata": {
        "colab": {
          "base_uri": "https://localhost:8080/"
        },
        "id": "a_cvOwSwWy3w",
        "outputId": "9947b79b-3062-403a-84d0-38db30c2b65e"
      },
      "execution_count": 7,
      "outputs": [
        {
          "output_type": "execute_result",
          "data": {
            "text/plain": [
              "False"
            ]
          },
          "metadata": {},
          "execution_count": 7
        }
      ]
    },
    {
      "cell_type": "code",
      "source": [
        "#Strings\n",
        "\n",
        "'Single Quote'"
      ],
      "metadata": {
        "colab": {
          "base_uri": "https://localhost:8080/",
          "height": 35
        },
        "id": "-oUqE-0uW126",
        "outputId": "cba58194-8fb7-4cc8-c53e-a08cc57a823d"
      },
      "execution_count": 8,
      "outputs": [
        {
          "output_type": "execute_result",
          "data": {
            "text/plain": [
              "'Single Quote'"
            ],
            "application/vnd.google.colaboratory.intrinsic+json": {
              "type": "string"
            }
          },
          "metadata": {},
          "execution_count": 8
        }
      ]
    },
    {
      "cell_type": "code",
      "source": [
        "\"Double Quote\""
      ],
      "metadata": {
        "colab": {
          "base_uri": "https://localhost:8080/",
          "height": 35
        },
        "id": "Lvq17D4MW7h6",
        "outputId": "d22742bd-847a-4bd4-c941-3285f753f512"
      },
      "execution_count": 9,
      "outputs": [
        {
          "output_type": "execute_result",
          "data": {
            "text/plain": [
              "'Double Quote'"
            ],
            "application/vnd.google.colaboratory.intrinsic+json": {
              "type": "string"
            }
          },
          "metadata": {},
          "execution_count": 9
        }
      ]
    },
    {
      "cell_type": "code",
      "source": [
        "#when for quotes using a triple quote\n",
        "\n",
        "multiline = \"\"\"\n",
        "The ice cream vanquished\n",
        "my longing for sweets,\n",
        "upon this diet I look away,\n",
        "it no longer exist on this day.\n",
        "\n",
        "\"\"\""
      ],
      "metadata": {
        "id": "qnww6AWdW9jw"
      },
      "execution_count": 13,
      "outputs": []
    },
    {
      "cell_type": "code",
      "source": [
        "print(multiline)"
      ],
      "metadata": {
        "colab": {
          "base_uri": "https://localhost:8080/"
        },
        "id": "pZ8LoPnJXIuQ",
        "outputId": "28d69ffe-6545-4a7d-cdf3-dfc13464ed67"
      },
      "execution_count": 14,
      "outputs": [
        {
          "output_type": "stream",
          "name": "stdout",
          "text": [
            "\n",
            "The ice cream vanquished \n",
            "my longing for sweets,\n",
            "upon this diet I look away,\n",
            "it no longer exist on this day.\n",
            "\n",
            "\n"
          ]
        }
      ]
    },
    {
      "cell_type": "code",
      "source": [
        "type(multiline)"
      ],
      "metadata": {
        "colab": {
          "base_uri": "https://localhost:8080/"
        },
        "id": "HvCsx15RXNEI",
        "outputId": "a2e4e21a-3597-4a78-a3fc-e3aab312a37d"
      },
      "execution_count": 15,
      "outputs": [
        {
          "output_type": "execute_result",
          "data": {
            "text/plain": [
              "str"
            ]
          },
          "metadata": {},
          "execution_count": 15
        }
      ]
    },
    {
      "cell_type": "code",
      "source": [
        "#Indexing\n",
        "\n",
        "a = 'Hello World'"
      ],
      "metadata": {
        "id": "dC9dw6s-XwIX"
      },
      "execution_count": 16,
      "outputs": []
    },
    {
      "cell_type": "code",
      "source": [
        "print(a[:5])"
      ],
      "metadata": {
        "colab": {
          "base_uri": "https://localhost:8080/"
        },
        "id": "KMi74MJ9YGXn",
        "outputId": "63bd8c5d-9fa9-4318-db47-e591657d8306"
      },
      "execution_count": 18,
      "outputs": [
        {
          "output_type": "stream",
          "name": "stdout",
          "text": [
            "Hello\n"
          ]
        }
      ]
    },
    {
      "cell_type": "code",
      "source": [
        "print(a[6])"
      ],
      "metadata": {
        "colab": {
          "base_uri": "https://localhost:8080/"
        },
        "id": "m0cGAaKnYIgy",
        "outputId": "c75b11c3-8040-4da3-fddc-9b0578b07de4"
      },
      "execution_count": 20,
      "outputs": [
        {
          "output_type": "stream",
          "name": "stdout",
          "text": [
            "W\n"
          ]
        }
      ]
    },
    {
      "cell_type": "code",
      "source": [
        "print(a[2:5])"
      ],
      "metadata": {
        "colab": {
          "base_uri": "https://localhost:8080/"
        },
        "id": "L60h-Gj1YMo_",
        "outputId": "e88835fc-1511-48bc-aab3-47863fd22a95"
      },
      "execution_count": 21,
      "outputs": [
        {
          "output_type": "stream",
          "name": "stdout",
          "text": [
            "llo\n"
          ]
        }
      ]
    },
    {
      "cell_type": "code",
      "source": [
        "a*3"
      ],
      "metadata": {
        "colab": {
          "base_uri": "https://localhost:8080/",
          "height": 35
        },
        "id": "tkhKfxaHYSOu",
        "outputId": "5d9dad02-9f58-44e0-9b5e-74b770b23476"
      },
      "execution_count": 22,
      "outputs": [
        {
          "output_type": "execute_result",
          "data": {
            "text/plain": [
              "'Hello WorldHello WorldHello World'"
            ],
            "application/vnd.google.colaboratory.intrinsic+json": {
              "type": "string"
            }
          },
          "metadata": {},
          "execution_count": 22
        }
      ]
    },
    {
      "cell_type": "code",
      "source": [
        "a + a"
      ],
      "metadata": {
        "colab": {
          "base_uri": "https://localhost:8080/",
          "height": 35
        },
        "id": "Fdm-Nm6-YVam",
        "outputId": "52e41179-2b45-4361-bb82-7cdd14cf06f7"
      },
      "execution_count": 23,
      "outputs": [
        {
          "output_type": "execute_result",
          "data": {
            "text/plain": [
              "'Hello WorldHello World'"
            ],
            "application/vnd.google.colaboratory.intrinsic+json": {
              "type": "string"
            }
          },
          "metadata": {},
          "execution_count": 23
        }
      ]
    },
    {
      "cell_type": "code",
      "source": [
        "#List [] makes the list\n",
        "\n",
        "[1,2,3]"
      ],
      "metadata": {
        "colab": {
          "base_uri": "https://localhost:8080/"
        },
        "id": "vCTQeT9QYXJH",
        "outputId": "21d47005-5dfc-458d-a7bb-b2716b0fe49f"
      },
      "execution_count": 24,
      "outputs": [
        {
          "output_type": "execute_result",
          "data": {
            "text/plain": [
              "[1, 2, 3]"
            ]
          },
          "metadata": {},
          "execution_count": 24
        }
      ]
    },
    {
      "cell_type": "code",
      "source": [
        "['Cookie Dough', 'Strawberry', 'Chocolate']"
      ],
      "metadata": {
        "colab": {
          "base_uri": "https://localhost:8080/"
        },
        "id": "6UhRhhUyYhkG",
        "outputId": "774e39cc-524e-4198-ae4e-2b7644e7110a"
      },
      "execution_count": 25,
      "outputs": [
        {
          "output_type": "execute_result",
          "data": {
            "text/plain": [
              "['Cookie Dough', 'Strawberry', 'Chocolate']"
            ]
          },
          "metadata": {},
          "execution_count": 25
        }
      ]
    },
    {
      "cell_type": "code",
      "source": [
        "['Vanilla', 3, ['Scoops','Sppon'],True]"
      ],
      "metadata": {
        "colab": {
          "base_uri": "https://localhost:8080/"
        },
        "id": "YQIee9zvYqMH",
        "outputId": "26ed200a-8a5f-4a83-bd7c-fab7e9423349"
      },
      "execution_count": 26,
      "outputs": [
        {
          "output_type": "execute_result",
          "data": {
            "text/plain": [
              "['Vanilla', 3, ['Scoops', 'Sppon'], True]"
            ]
          },
          "metadata": {},
          "execution_count": 26
        }
      ]
    },
    {
      "cell_type": "code",
      "source": [
        "ice_cream = ['Cookie dough','Strawberry', 'Chocolate']\n",
        "#adds to the end of the list\n",
        "ice_cream.append('Salted Caramel')\n",
        "\n",
        "ice_cream"
      ],
      "metadata": {
        "colab": {
          "base_uri": "https://localhost:8080/"
        },
        "id": "tfm9UbZ0Y0A9",
        "outputId": "d436f832-3a56-4962-e2a1-9abea7738255"
      },
      "execution_count": 28,
      "outputs": [
        {
          "output_type": "execute_result",
          "data": {
            "text/plain": [
              "['Cookie dough', 'Strawberry', 'Chocolate', 'Salted Caramel']"
            ]
          },
          "metadata": {},
          "execution_count": 28
        }
      ]
    },
    {
      "cell_type": "code",
      "source": [
        "#replacing\n",
        "ice_cream[0]='Butter Pecan'\n",
        "ice_cream"
      ],
      "metadata": {
        "colab": {
          "base_uri": "https://localhost:8080/"
        },
        "id": "QQ9PGNK3Y-LB",
        "outputId": "755e3a0d-9d4a-4c38-80e7-bf6c9a86e6cf"
      },
      "execution_count": 29,
      "outputs": [
        {
          "output_type": "execute_result",
          "data": {
            "text/plain": [
              "['Butter Pecan', 'Strawberry', 'Chocolate', 'Salted Caramel']"
            ]
          },
          "metadata": {},
          "execution_count": 29
        }
      ]
    },
    {
      "cell_type": "code",
      "source": [
        "nest_list = ['Vanilla', 3,['Scooops','Spoon'],True]"
      ],
      "metadata": {
        "id": "aEcGuiLMaPXH"
      },
      "execution_count": 31,
      "outputs": []
    },
    {
      "cell_type": "code",
      "source": [
        "nest_list[2][1]"
      ],
      "metadata": {
        "colab": {
          "base_uri": "https://localhost:8080/",
          "height": 35
        },
        "id": "DHdLpCjPaUO2",
        "outputId": "941b6705-51c6-4694-9b41-981eacd484ab"
      },
      "execution_count": 33,
      "outputs": [
        {
          "output_type": "execute_result",
          "data": {
            "text/plain": [
              "'Spoon'"
            ],
            "application/vnd.google.colaboratory.intrinsic+json": {
              "type": "string"
            }
          },
          "metadata": {},
          "execution_count": 33
        }
      ]
    },
    {
      "cell_type": "code",
      "source": [
        "#Tuples () differs from list because it cannot be modified, most people use tuple when data never changes i.e cities\n",
        "\n",
        "tuple_scoops = (1,2,3,2,1)"
      ],
      "metadata": {
        "id": "kcoSz9kFafRl"
      },
      "execution_count": 34,
      "outputs": []
    },
    {
      "cell_type": "code",
      "source": [
        "type(tuple_scoops)"
      ],
      "metadata": {
        "colab": {
          "base_uri": "https://localhost:8080/"
        },
        "id": "kdpCJ6DKavGr",
        "outputId": "ff968146-a56b-4725-b9cd-5040cea217c6"
      },
      "execution_count": 35,
      "outputs": [
        {
          "output_type": "execute_result",
          "data": {
            "text/plain": [
              "tuple"
            ]
          },
          "metadata": {},
          "execution_count": 35
        }
      ]
    },
    {
      "cell_type": "code",
      "source": [
        "tuple_scoops[0]"
      ],
      "metadata": {
        "colab": {
          "base_uri": "https://localhost:8080/"
        },
        "id": "Ouz0WRcIaw8G",
        "outputId": "ccf280e2-2814-4cd2-8729-812665dc608a"
      },
      "execution_count": 36,
      "outputs": [
        {
          "output_type": "execute_result",
          "data": {
            "text/plain": [
              "1"
            ]
          },
          "metadata": {},
          "execution_count": 36
        }
      ]
    },
    {
      "cell_type": "code",
      "source": [
        "#example\n",
        "tuple_scoops.append(3)"
      ],
      "metadata": {
        "colab": {
          "base_uri": "https://localhost:8080/",
          "height": 165
        },
        "id": "HWQcl0IsazT1",
        "outputId": "ec6c085f-3001-45a6-f04e-5a1be952d4cf"
      },
      "execution_count": 37,
      "outputs": [
        {
          "output_type": "error",
          "ename": "AttributeError",
          "evalue": "ignored",
          "traceback": [
            "\u001b[0;31m---------------------------------------------------------------------------\u001b[0m",
            "\u001b[0;31mAttributeError\u001b[0m                            Traceback (most recent call last)",
            "\u001b[0;32m<ipython-input-37-8280c555728f>\u001b[0m in \u001b[0;36m<cell line: 1>\u001b[0;34m()\u001b[0m\n\u001b[0;32m----> 1\u001b[0;31m \u001b[0mtuple_scoops\u001b[0m\u001b[0;34m.\u001b[0m\u001b[0mappend\u001b[0m\u001b[0;34m(\u001b[0m\u001b[0;36m3\u001b[0m\u001b[0;34m)\u001b[0m\u001b[0;34m\u001b[0m\u001b[0;34m\u001b[0m\u001b[0m\n\u001b[0m",
            "\u001b[0;31mAttributeError\u001b[0m: 'tuple' object has no attribute 'append'"
          ]
        }
      ]
    },
    {
      "cell_type": "code",
      "source": [
        "#Sets {} similar to list and tuples but no dupicates\n",
        "\n",
        "daily_pints = {1,2,3}\n"
      ],
      "metadata": {
        "id": "8cccEJata3Kl"
      },
      "execution_count": 38,
      "outputs": []
    },
    {
      "cell_type": "code",
      "source": [
        "type(daily_pints)"
      ],
      "metadata": {
        "colab": {
          "base_uri": "https://localhost:8080/"
        },
        "id": "Z0DvxByYbWQc",
        "outputId": "0ae9e2c8-55a2-4746-a018-5a28ed44517f"
      },
      "execution_count": 39,
      "outputs": [
        {
          "output_type": "execute_result",
          "data": {
            "text/plain": [
              "set"
            ]
          },
          "metadata": {},
          "execution_count": 39
        }
      ]
    },
    {
      "cell_type": "code",
      "source": [
        "daily_pints_log = {1,2,3,32,123,1,123,123,}\n",
        "\n",
        "print(daily_pints_log)"
      ],
      "metadata": {
        "colab": {
          "base_uri": "https://localhost:8080/"
        },
        "id": "VgBSwXbjbX2D",
        "outputId": "32be5e9b-8a4e-4344-f5e9-eafb2aaee91b"
      },
      "execution_count": 40,
      "outputs": [
        {
          "output_type": "stream",
          "name": "stdout",
          "text": [
            "{32, 1, 2, 3, 123}\n"
          ]
        }
      ]
    },
    {
      "cell_type": "code",
      "source": [
        "wifes_daily_pint_long = {1,2,3,5,6,24,4,6,2,0,1}"
      ],
      "metadata": {
        "id": "saZKMTOxbeVr"
      },
      "execution_count": 41,
      "outputs": []
    },
    {
      "cell_type": "code",
      "source": [
        "#combined unique values\n",
        "print(daily_pints_log|wifes_daily_pint_long)"
      ],
      "metadata": {
        "colab": {
          "base_uri": "https://localhost:8080/"
        },
        "id": "bbRXzSrsbnGu",
        "outputId": "28f139bf-2b79-4dfb-c0a5-46daf7718a59"
      },
      "execution_count": 42,
      "outputs": [
        {
          "output_type": "stream",
          "name": "stdout",
          "text": [
            "{32, 1, 2, 3, 0, 4, 5, 6, 24, 123}\n"
          ]
        }
      ]
    },
    {
      "cell_type": "code",
      "source": [
        "#what matchs\n",
        "print(daily_pints_log & wifes_daily_pint_long)"
      ],
      "metadata": {
        "colab": {
          "base_uri": "https://localhost:8080/"
        },
        "id": "8w1u74TPbro7",
        "outputId": "1d063ab9-ecc9-424b-f468-02e76d844847"
      },
      "execution_count": 43,
      "outputs": [
        {
          "output_type": "stream",
          "name": "stdout",
          "text": [
            "{1, 2, 3}\n"
          ]
        }
      ]
    },
    {
      "cell_type": "code",
      "source": [
        "#what doesn't match\n",
        "print(daily_pints_log - wifes_daily_pint_long)"
      ],
      "metadata": {
        "colab": {
          "base_uri": "https://localhost:8080/"
        },
        "id": "ry3oXFhLb2pE",
        "outputId": "b39c6973-46dc-4af0-80b1-74a0d96d317d"
      },
      "execution_count": 44,
      "outputs": [
        {
          "output_type": "stream",
          "name": "stdout",
          "text": [
            "{32, 123}\n"
          ]
        }
      ]
    },
    {
      "cell_type": "code",
      "source": [
        "#shows values unique to each set\n",
        "print(daily_pints_log ^ wifes_daily_pint_long)"
      ],
      "metadata": {
        "colab": {
          "base_uri": "https://localhost:8080/"
        },
        "id": "viRvpE9hb7ds",
        "outputId": "f500c33d-36e6-419c-8582-0c18a8d8ac20"
      },
      "execution_count": 45,
      "outputs": [
        {
          "output_type": "stream",
          "name": "stdout",
          "text": [
            "{0, 4, 5, 6, 32, 24, 123}\n"
          ]
        }
      ]
    },
    {
      "cell_type": "code",
      "source": [
        "#Dictionaries\n",
        "#Key/Value Pair\n",
        "\n",
        "dict_cream = {'name':'Blake L', 'Weekly intake':5, 'Favorite ice cream':['Mint','Macha']}"
      ],
      "metadata": {
        "id": "fuUOQfK6cEIe"
      },
      "execution_count": 47,
      "outputs": []
    },
    {
      "cell_type": "code",
      "source": [
        "type(dict_cream)"
      ],
      "metadata": {
        "colab": {
          "base_uri": "https://localhost:8080/"
        },
        "id": "Evx6Jk73cG7i",
        "outputId": "2b9f9faf-32a4-491a-e7b7-d701ee4bf794"
      },
      "execution_count": 48,
      "outputs": [
        {
          "output_type": "execute_result",
          "data": {
            "text/plain": [
              "dict"
            ]
          },
          "metadata": {},
          "execution_count": 48
        }
      ]
    },
    {
      "cell_type": "code",
      "source": [
        "print(dict_cream)"
      ],
      "metadata": {
        "colab": {
          "base_uri": "https://localhost:8080/"
        },
        "id": "IhDKyTz-cfWS",
        "outputId": "f38aeefc-0f3d-43b2-cdc9-49243d15539f"
      },
      "execution_count": 49,
      "outputs": [
        {
          "output_type": "stream",
          "name": "stdout",
          "text": [
            "{'name': 'Blake L', 'Weekly intake': 5, 'Favorite ice cream': ['Mint', 'Macha']}\n"
          ]
        }
      ]
    },
    {
      "cell_type": "code",
      "source": [
        "dict_cream.values()"
      ],
      "metadata": {
        "colab": {
          "base_uri": "https://localhost:8080/"
        },
        "id": "nfclmB7WchOy",
        "outputId": "8848eed0-b0c1-4e7e-e825-0b4d43d07a95"
      },
      "execution_count": 51,
      "outputs": [
        {
          "output_type": "execute_result",
          "data": {
            "text/plain": [
              "dict_values(['Blake L', 5, ['Mint', 'Macha']])"
            ]
          },
          "metadata": {},
          "execution_count": 51
        }
      ]
    },
    {
      "cell_type": "code",
      "source": [
        "dict_cream.keys()"
      ],
      "metadata": {
        "colab": {
          "base_uri": "https://localhost:8080/"
        },
        "id": "43F77RkdcksV",
        "outputId": "1f4874be-db83-4555-af58-daa93975d7c4"
      },
      "execution_count": 52,
      "outputs": [
        {
          "output_type": "execute_result",
          "data": {
            "text/plain": [
              "dict_keys(['name', 'Weekly intake', 'Favorite ice cream'])"
            ]
          },
          "metadata": {},
          "execution_count": 52
        }
      ]
    },
    {
      "cell_type": "code",
      "source": [
        "dict_cream.items()"
      ],
      "metadata": {
        "colab": {
          "base_uri": "https://localhost:8080/"
        },
        "id": "RPILTSAzcnz0",
        "outputId": "c97dd3d7-9444-4d3e-9cd8-d5908b359807"
      },
      "execution_count": 53,
      "outputs": [
        {
          "output_type": "execute_result",
          "data": {
            "text/plain": [
              "dict_items([('name', 'Blake L'), ('Weekly intake', 5), ('Favorite ice cream', ['Mint', 'Macha'])])"
            ]
          },
          "metadata": {},
          "execution_count": 53
        }
      ]
    },
    {
      "cell_type": "code",
      "source": [
        "#updating in dictionary\n",
        "\n",
        "dict_cream['name'] = 'Blake Lieu'\n",
        "\n",
        "print(dict_cream)"
      ],
      "metadata": {
        "colab": {
          "base_uri": "https://localhost:8080/"
        },
        "id": "B5p_3A0wcrpK",
        "outputId": "8aa63dd6-5cc6-4192-c84c-67f49231bb2e"
      },
      "execution_count": 55,
      "outputs": [
        {
          "output_type": "stream",
          "name": "stdout",
          "text": [
            "{'name': 'Blake Lieu', 'Weekly intake': 5, 'Favorite ice cream': ['Mint', 'Macha'], 'Name': 'Blake Lieu'}\n"
          ]
        }
      ]
    },
    {
      "cell_type": "code",
      "source": [
        "dict_cream.update({'name': 'Blake L','weekly intake': 5, 'weight':210})\n",
        "print(dict_cream)"
      ],
      "metadata": {
        "colab": {
          "base_uri": "https://localhost:8080/"
        },
        "id": "WMJNmJUgc_SB",
        "outputId": "bac056ab-1808-44e2-a806-9d7da04e0ef5"
      },
      "execution_count": 56,
      "outputs": [
        {
          "output_type": "stream",
          "name": "stdout",
          "text": [
            "{'name': 'Blake L', 'Weekly intake': 5, 'Favorite ice cream': ['Mint', 'Macha'], 'Name': 'Blake Lieu', 'weekly intake': 5, 'weight': 210}\n"
          ]
        }
      ]
    },
    {
      "cell_type": "code",
      "source": [
        "#to delete\n",
        "del dict_cream['Name']\n",
        "print(dict_cream)"
      ],
      "metadata": {
        "colab": {
          "base_uri": "https://localhost:8080/"
        },
        "id": "qAxHQiaSdW_y",
        "outputId": "1c13984c-86bd-4f23-b291-6c1b6c767929"
      },
      "execution_count": 57,
      "outputs": [
        {
          "output_type": "stream",
          "name": "stdout",
          "text": [
            "{'name': 'Blake L', 'Weekly intake': 5, 'Favorite ice cream': ['Mint', 'Macha'], 'weekly intake': 5, 'weight': 210}\n"
          ]
        }
      ]
    },
    {
      "cell_type": "code",
      "source": [],
      "metadata": {
        "id": "sz9gg81xdiEx"
      },
      "execution_count": null,
      "outputs": []
    }
  ]
}