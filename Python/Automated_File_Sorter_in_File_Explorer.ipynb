{
  "nbformat": 4,
  "nbformat_minor": 0,
  "metadata": {
    "colab": {
      "provenance": []
    },
    "kernelspec": {
      "name": "python3",
      "display_name": "Python 3"
    },
    "language_info": {
      "name": "python"
    }
  },
  "cells": [
    {
      "cell_type": "code",
      "execution_count": 1,
      "metadata": {
        "id": "LK09bsHc9vuw"
      },
      "outputs": [],
      "source": [
        "import os, shutil"
      ]
    },
    {
      "cell_type": "code",
      "source": [
        "path =r\"W:/AlexTheAnalyst - Bootcamp/Python/\""
      ],
      "metadata": {
        "id": "hgr9hL55MAlN"
      },
      "execution_count": 2,
      "outputs": []
    },
    {
      "cell_type": "code",
      "source": [
        "file_name = os.listdir(path)"
      ],
      "metadata": {
        "id": "I-gT8Kk2MSYV"
      },
      "execution_count": null,
      "outputs": []
    },
    {
      "cell_type": "code",
      "source": [
        "folder_name = ['csv files', 'image files','text files']\n",
        "\n",
        "for loop in range (0,2)\n",
        "  if not os.path.exists(path + folder_name[loop])\n",
        "    print(path + folder_name[loop])\n",
        "    os.makedirs(path + folder_name[loop])"
      ],
      "metadata": {
        "id": "irxWOlNJMi1-"
      },
      "execution_count": null,
      "outputs": []
    },
    {
      "cell_type": "code",
      "source": [
        "for file in file_name:\n",
        "  if \".csv\" in file and not os.path.exists(path + \"csv files/\" + file):\n",
        "    shutil.move(path + file,path + \"csv files/\" + file)\n",
        "  elif \".png\" in file and not os.path.exists(path + \"image files/\" + file):\n",
        "    shutil.move(path + file,path + \"image files/\" + file)\n",
        "  elif \".txt\" in file and not os.path.exists(path + \"text files/\" + file):\n",
        "    shutil.move(path + file,path + \"text files/\" + file)\n",
        "  else:\n",
        "    print(\"This file type is not included\")"
      ],
      "metadata": {
        "id": "TA2PGC7iMntJ"
      },
      "execution_count": null,
      "outputs": []
    },
    {
      "cell_type": "code",
      "source": [],
      "metadata": {
        "id": "-Fxe5Ja9Mnvw"
      },
      "execution_count": null,
      "outputs": []
    },
    {
      "cell_type": "code",
      "source": [],
      "metadata": {
        "id": "69ehOExFMnyW"
      },
      "execution_count": null,
      "outputs": []
    },
    {
      "cell_type": "code",
      "source": [],
      "metadata": {
        "id": "T7SF_g9gMn09"
      },
      "execution_count": null,
      "outputs": []
    },
    {
      "cell_type": "code",
      "source": [],
      "metadata": {
        "id": "XW8LcmLpMn3b"
      },
      "execution_count": null,
      "outputs": []
    },
    {
      "cell_type": "code",
      "source": [],
      "metadata": {
        "id": "iuGxKEpUMn57"
      },
      "execution_count": null,
      "outputs": []
    }
  ]
}