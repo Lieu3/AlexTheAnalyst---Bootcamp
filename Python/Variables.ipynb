{
  "nbformat": 4,
  "nbformat_minor": 0,
  "metadata": {
    "colab": {
      "provenance": []
    },
    "kernelspec": {
      "name": "python3",
      "display_name": "Python 3"
    },
    "language_info": {
      "name": "python"
    }
  },
  "cells": [
    {
      "cell_type": "code",
      "execution_count": 3,
      "metadata": {
        "colab": {
          "base_uri": "https://localhost:8080/"
        },
        "id": "keK7d0WcPzHA",
        "outputId": "f80b6c1b-b151-4429-ded8-dd9cc29a74c0"
      },
      "outputs": [
        {
          "output_type": "stream",
          "name": "stdout",
          "text": [
            "27\n"
          ]
        }
      ],
      "source": [
        "x = 27\n",
        "print(x)"
      ]
    },
    {
      "cell_type": "code",
      "source": [
        "type(x)"
      ],
      "metadata": {
        "colab": {
          "base_uri": "https://localhost:8080/"
        },
        "id": "f8Gjh4RLP95u",
        "outputId": "117d5d75-a1c3-44d9-9cee-ca616ff9e121"
      },
      "execution_count": 4,
      "outputs": [
        {
          "output_type": "execute_result",
          "data": {
            "text/plain": [
              "int"
            ]
          },
          "metadata": {},
          "execution_count": 4
        }
      ]
    },
    {
      "cell_type": "code",
      "source": [
        "y = 'Mint Chocolate Chip'\n",
        "print(y)"
      ],
      "metadata": {
        "colab": {
          "base_uri": "https://localhost:8080/"
        },
        "id": "Blov5LjFQBkL",
        "outputId": "3537a082-99fa-42fd-f0b0-15e0eba1af6b"
      },
      "execution_count": 5,
      "outputs": [
        {
          "output_type": "stream",
          "name": "stdout",
          "text": [
            "Mint Chocolate Chip\n"
          ]
        }
      ]
    },
    {
      "cell_type": "code",
      "source": [
        "type(y)"
      ],
      "metadata": {
        "colab": {
          "base_uri": "https://localhost:8080/"
        },
        "id": "QpEqiSGfQI1t",
        "outputId": "278c2801-fad3-4e96-9e2e-b6d1b90d2537"
      },
      "execution_count": 6,
      "outputs": [
        {
          "output_type": "execute_result",
          "data": {
            "text/plain": [
              "str"
            ]
          },
          "metadata": {},
          "execution_count": 6
        }
      ]
    },
    {
      "cell_type": "code",
      "source": [
        "x,y,z = 'Chocolate','Vanilla', 'Rocky Road'\n",
        "print(x)\n",
        "print(y)\n",
        "print(z)"
      ],
      "metadata": {
        "colab": {
          "base_uri": "https://localhost:8080/"
        },
        "id": "vQYqCcaRQI6b",
        "outputId": "8baf8846-924e-4069-be74-e6a58c46f5c1"
      },
      "execution_count": 7,
      "outputs": [
        {
          "output_type": "stream",
          "name": "stdout",
          "text": [
            "Chocolate\n",
            "Vanilla\n",
            "Rocky Road\n"
          ]
        }
      ]
    },
    {
      "cell_type": "code",
      "source": [
        "ice_cream = ['Chocolate','Vanilla', 'Rocky Road']\n",
        "x,y,z = ice_cream\n",
        "print(x)\n",
        "print(y)\n",
        "print(z)"
      ],
      "metadata": {
        "colab": {
          "base_uri": "https://localhost:8080/"
        },
        "id": "Nhs77KgKQJAQ",
        "outputId": "8595066b-74a3-4607-cec1-8980c13490cf"
      },
      "execution_count": 8,
      "outputs": [
        {
          "output_type": "stream",
          "name": "stdout",
          "text": [
            "Chocolate\n",
            "Vanilla\n",
            "Rocky Road\n"
          ]
        }
      ]
    },
    {
      "cell_type": "code",
      "source": [
        "# Camel Case\n",
        "\n",
        "#Test Variable Case\n",
        "\n",
        "testVariableCase = 'Vanilla Swirl'"
      ],
      "metadata": {
        "id": "So1Gtw9OQJFn"
      },
      "execution_count": null,
      "outputs": []
    },
    {
      "cell_type": "code",
      "source": [
        "# Pascal Case\n",
        "\n",
        "#Test Variable Case\n",
        "\n",
        "TestVariableCase = 'Vanilla Swirl'"
      ],
      "metadata": {
        "id": "jvLJjem2Q5Vy"
      },
      "execution_count": null,
      "outputs": []
    },
    {
      "cell_type": "code",
      "source": [
        "# Snake Case\n",
        "\n",
        "#Test Variable Case\n",
        "\n",
        "test_variable_case = 'Vanilla Swirl'"
      ],
      "metadata": {
        "id": "IEGEPRNTQ5YQ"
      },
      "execution_count": null,
      "outputs": []
    },
    {
      "cell_type": "code",
      "source": [
        "testvar = 'Vanilla Swirl'\n",
        "test_var = 'Vanilla Swirl'\n",
        "_test_var = 'Vanilla Swirl'\n",
        "TestVar = 'Vanilla Swirl'\n",
        "testVar2 = 'Vanilla Swirl'"
      ],
      "metadata": {
        "id": "eOsjyT_WQ5an"
      },
      "execution_count": null,
      "outputs": []
    },
    {
      "cell_type": "code",
      "source": [
        "x = 'Ice Cream is my favorite' + '.'\n",
        "print(x)"
      ],
      "metadata": {
        "colab": {
          "base_uri": "https://localhost:8080/"
        },
        "id": "6VqkCYNNQJKz",
        "outputId": "5a46197d-5d41-4fb8-f3ba-9efe3b802270"
      },
      "execution_count": 10,
      "outputs": [
        {
          "output_type": "stream",
          "name": "stdout",
          "text": [
            "Ice Cream is my favorite.\n"
          ]
        }
      ]
    },
    {
      "cell_type": "code",
      "source": [
        "#Cannot use an interger\n",
        "x = 'Ice Cream is my favorite' + 2\n",
        "print(x)"
      ],
      "metadata": {
        "colab": {
          "base_uri": "https://localhost:8080/",
          "height": 200
        },
        "id": "a2aE23SSQJRY",
        "outputId": "2c5acced-5196-4dca-951d-82e8e91d44dd"
      },
      "execution_count": 11,
      "outputs": [
        {
          "output_type": "error",
          "ename": "TypeError",
          "evalue": "ignored",
          "traceback": [
            "\u001b[0;31m---------------------------------------------------------------------------\u001b[0m",
            "\u001b[0;31mTypeError\u001b[0m                                 Traceback (most recent call last)",
            "\u001b[0;32m<ipython-input-11-14efc9dcd6a6>\u001b[0m in \u001b[0;36m<cell line: 2>\u001b[0;34m()\u001b[0m\n\u001b[1;32m      1\u001b[0m \u001b[0;31m#Cannot use an interger\u001b[0m\u001b[0;34m\u001b[0m\u001b[0;34m\u001b[0m\u001b[0m\n\u001b[0;32m----> 2\u001b[0;31m \u001b[0mx\u001b[0m \u001b[0;34m=\u001b[0m \u001b[0;34m'Ice Cream is my favorite'\u001b[0m \u001b[0;34m+\u001b[0m \u001b[0;36m2\u001b[0m\u001b[0;34m\u001b[0m\u001b[0;34m\u001b[0m\u001b[0m\n\u001b[0m\u001b[1;32m      3\u001b[0m \u001b[0mprint\u001b[0m\u001b[0;34m(\u001b[0m\u001b[0mx\u001b[0m\u001b[0;34m)\u001b[0m\u001b[0;34m\u001b[0m\u001b[0;34m\u001b[0m\u001b[0m\n",
            "\u001b[0;31mTypeError\u001b[0m: can only concatenate str (not \"int\") to str"
          ]
        }
      ]
    },
    {
      "cell_type": "code",
      "source": [
        "#For int\n",
        "\n",
        "y = 3 + 2\n",
        "\n",
        "print(y)\n"
      ],
      "metadata": {
        "colab": {
          "base_uri": "https://localhost:8080/"
        },
        "id": "Q_1BquiiQJXt",
        "outputId": "3a7f01af-3db7-441a-a9ad-63bfafca4f4b"
      },
      "execution_count": 13,
      "outputs": [
        {
          "output_type": "stream",
          "name": "stdout",
          "text": [
            "5\n"
          ]
        }
      ]
    },
    {
      "cell_type": "code",
      "source": [
        "x = 'Ice Cream '\n",
        "y = 'is '\n",
        "z = 'my favorite'\n",
        "\n",
        "print(x+y+z)"
      ],
      "metadata": {
        "colab": {
          "base_uri": "https://localhost:8080/"
        },
        "id": "sprKFnK_Si9N",
        "outputId": "19adf2b7-1291-47e1-929f-4130aa42fc86"
      },
      "execution_count": 16,
      "outputs": [
        {
          "output_type": "stream",
          "name": "stdout",
          "text": [
            "Ice Cream is my favorite\n"
          ]
        }
      ]
    },
    {
      "cell_type": "code",
      "source": [
        "# You can combine a string with an Int by using a ','\n",
        "\n",
        "x = 'Ice Cream'\n",
        "y = 2\n",
        "\n",
        "print(x,y)"
      ],
      "metadata": {
        "colab": {
          "base_uri": "https://localhost:8080/"
        },
        "id": "tJIWD72sSsOc",
        "outputId": "57af1486-8a41-4541-a524-05cc54c3b25d"
      },
      "execution_count": 17,
      "outputs": [
        {
          "output_type": "stream",
          "name": "stdout",
          "text": [
            "Ice Cream 2\n"
          ]
        }
      ]
    },
    {
      "cell_type": "code",
      "source": [],
      "metadata": {
        "id": "L3zrBCZaTASE"
      },
      "execution_count": null,
      "outputs": []
    }
  ]
}