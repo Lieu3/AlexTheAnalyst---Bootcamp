{
  "nbformat": 4,
  "nbformat_minor": 0,
  "metadata": {
    "colab": {
      "provenance": []
    },
    "kernelspec": {
      "name": "python3",
      "display_name": "Python 3"
    },
    "language_info": {
      "name": "python"
    }
  },
  "cells": [
    {
      "cell_type": "markdown",
      "source": [
        "![image_2023-07-20_124348402.png](data:image/png;base64,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)"
      ],
      "metadata": {
        "id": "_ah81HVY1GzX"
      }
    },
    {
      "cell_type": "code",
      "source": [
        "def first_func():\n",
        "  print('We did it!')"
      ],
      "metadata": {
        "id": "bGD26_TC1Hwb"
      },
      "execution_count": 1,
      "outputs": []
    },
    {
      "cell_type": "code",
      "source": [
        "first_func()"
      ],
      "metadata": {
        "colab": {
          "base_uri": "https://localhost:8080/"
        },
        "id": "HzDhCB9F1R2L",
        "outputId": "ac805ae0-662b-4d62-9bb7-cf7d04e26b55"
      },
      "execution_count": 2,
      "outputs": [
        {
          "output_type": "stream",
          "name": "stdout",
          "text": [
            "We did it!\n"
          ]
        }
      ]
    },
    {
      "cell_type": "code",
      "source": [
        "def number_squared(number):\n",
        "  print(number**2)"
      ],
      "metadata": {
        "id": "VEWNKRwD1UaE"
      },
      "execution_count": 6,
      "outputs": []
    },
    {
      "cell_type": "code",
      "source": [
        "number_squared(5)"
      ],
      "metadata": {
        "colab": {
          "base_uri": "https://localhost:8080/"
        },
        "id": "4j428ZGD1j6z",
        "outputId": "1c4feab1-d39f-453f-e9f0-fb04538d94a9"
      },
      "execution_count": 8,
      "outputs": [
        {
          "output_type": "stream",
          "name": "stdout",
          "text": [
            "25\n"
          ]
        }
      ]
    },
    {
      "cell_type": "code",
      "source": [
        "def number_squared_cust(number,power):\n",
        "  print(number**power)"
      ],
      "metadata": {
        "id": "ZnqOfwBj1l2J"
      },
      "execution_count": 9,
      "outputs": []
    },
    {
      "cell_type": "code",
      "source": [
        "number_squared_cust(5,3)"
      ],
      "metadata": {
        "colab": {
          "base_uri": "https://localhost:8080/"
        },
        "id": "8R-ovfU412a4",
        "outputId": "9ebd0d04-45f0-4a1d-f44c-bc1b02cd000f"
      },
      "execution_count": 10,
      "outputs": [
        {
          "output_type": "stream",
          "name": "stdout",
          "text": [
            "125\n"
          ]
        }
      ]
    },
    {
      "cell_type": "code",
      "source": [
        "def number_args(*number):\n",
        "  print(number[0]*number[1])"
      ],
      "metadata": {
        "id": "eMYaOxxz15U5"
      },
      "execution_count": 11,
      "outputs": []
    },
    {
      "cell_type": "code",
      "source": [
        "number_args(5,6,1,2,8)"
      ],
      "metadata": {
        "colab": {
          "base_uri": "https://localhost:8080/"
        },
        "id": "Mo5Dunk_2Mnx",
        "outputId": "dd336a28-72d3-4499-be83-8b200a742f0e"
      },
      "execution_count": 12,
      "outputs": [
        {
          "output_type": "stream",
          "name": "stdout",
          "text": [
            "30\n"
          ]
        }
      ]
    },
    {
      "cell_type": "code",
      "source": [
        "args_tuple = (5,6,1,2,8)\n",
        "def number_args(*number):\n",
        "  print(number[0]*number[1])"
      ],
      "metadata": {
        "id": "rZ_sYolo2Rd4"
      },
      "execution_count": 13,
      "outputs": []
    },
    {
      "cell_type": "code",
      "source": [
        "number_args(*args_tuple)"
      ],
      "metadata": {
        "colab": {
          "base_uri": "https://localhost:8080/"
        },
        "id": "0emsuDmm2d-g",
        "outputId": "c573b87c-1d99-43fc-f937-46ec66ad5ccd"
      },
      "execution_count": 14,
      "outputs": [
        {
          "output_type": "stream",
          "name": "stdout",
          "text": [
            "30\n"
          ]
        }
      ]
    },
    {
      "cell_type": "code",
      "source": [
        "def number_squared_cust(number,power):\n",
        "  print(number**power)"
      ],
      "metadata": {
        "id": "sjs9bj8G2jAT"
      },
      "execution_count": 15,
      "outputs": []
    },
    {
      "cell_type": "code",
      "source": [
        "number_squared_cust(power = 5,number = 3)"
      ],
      "metadata": {
        "colab": {
          "base_uri": "https://localhost:8080/"
        },
        "id": "kFBd_uBW2vEp",
        "outputId": "c2521433-66be-4794-a1fe-c9fce7c2ef59"
      },
      "execution_count": 17,
      "outputs": [
        {
          "output_type": "stream",
          "name": "stdout",
          "text": [
            "243\n"
          ]
        }
      ]
    },
    {
      "cell_type": "code",
      "source": [
        "#Keyword arguement\n",
        "\n",
        "def number_kwarg(**number):\n",
        "  print('My number is: ' + number['integer'] + 'My other number: '+ number['integer2'])"
      ],
      "metadata": {
        "id": "317FTkJ822tR"
      },
      "execution_count": 21,
      "outputs": []
    },
    {
      "cell_type": "code",
      "source": [
        "number_kwarg(integer = '2309', integer2 = '349')"
      ],
      "metadata": {
        "colab": {
          "base_uri": "https://localhost:8080/"
        },
        "id": "waw9OlJo3NO2",
        "outputId": "c8c55649-92aa-4178-95f9-e56fe207a3e3"
      },
      "execution_count": 22,
      "outputs": [
        {
          "output_type": "stream",
          "name": "stdout",
          "text": [
            "My number is: 2309My other number: 349\n"
          ]
        }
      ]
    }
  ]
}